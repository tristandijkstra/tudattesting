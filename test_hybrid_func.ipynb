{
 "cells": [
  {
   "cell_type": "code",
   "execution_count": 11,
   "metadata": {},
   "outputs": [],
   "source": [
    "# import os\n",
    "import sys\n",
    "import datetime\n",
    "\n",
    "sys.path.insert(0, r\"/mnt/c/Users/Trez/Desktop/tudat-bundle/tudatpy/\")\n",
    "# from tudatpy.data.mpc import BatchMPC\n",
    "# from tudatpy.data.horizons import HorizonsQuery\n",
    "\n",
    "from tudatpy.numerical_simulation.environment_setup.ephemeris import jpl_horizons\n",
    "from tudatpy.numerical_simulation import environment_setup"
   ]
  },
  {
   "cell_type": "code",
   "execution_count": 12,
   "metadata": {},
   "outputs": [
    {
     "ename": "",
     "evalue": "",
     "output_type": "error",
     "traceback": [
      "\u001b[1;31mThe Kernel crashed while executing code in the the current cell or a previous cell. Please review the code in the cell(s) to identify a possible cause of the failure. Click <a href='https://aka.ms/vscodeJupyterKernelCrash'>here</a> for more info. View Jupyter <a href='command:jupyter.viewOutput'>log</a> for further details."
     ]
    }
   ],
   "source": [
    "juice_eph_settings = jpl_horizons(\n",
    "    horizons_query=\"433\", \n",
    "    horizons_location=\"500@SSB\",\n",
    "    frame_origin=\"Earth\", #tudat frame origin and orientation\n",
    "    frame_orientation=\"ECLIPJ2000\",\n",
    "    epoch_start=datetime.datetime(2020, 1, 1),\n",
    "    epoch_end=datetime.datetime(2023, 1, 1),\n",
    "    epoch_step=\"1d\",\n",
    "    extended_query=True,\n",
    ")\n",
    "\n",
    "bodies_to_create = [\n",
    "    \"Earth\",\n",
    "]\n",
    "global_frame_origin = \"SSB\"\n",
    "global_frame_orientation = \"J2000\"\n",
    "body_settings = environment_setup.get_default_body_settings(\n",
    "    bodies_to_create, global_frame_origin, global_frame_orientation\n",
    ")\n",
    "\n",
    "body_settings.add_empty_settings(\"Eros\")\n",
    "\n",
    "body_settings.get(\"Eros\").ephemeris_settings = juice_eph_settings"
   ]
  },
  {
   "cell_type": "code",
   "execution_count": null,
   "metadata": {},
   "outputs": [],
   "source": []
  },
  {
   "cell_type": "code",
   "execution_count": null,
   "metadata": {},
   "outputs": [
    {
     "name": "stdout",
     "output_type": "stream",
     "text": [
      "<tudatpy.kernel.numerical_simulation.environment_setup.ephemeris.TabulatedEphemerisSettings object at 0x7fb3983e2370>\n"
     ]
    }
   ],
   "source": [
    "print(a)"
   ]
  },
  {
   "cell_type": "code",
   "execution_count": null,
   "metadata": {},
   "outputs": [],
   "source": []
  }
 ],
 "metadata": {
  "kernelspec": {
   "display_name": "tudat-bundle",
   "language": "python",
   "name": "python3"
  },
  "language_info": {
   "codemirror_mode": {
    "name": "ipython",
    "version": 3
   },
   "file_extension": ".py",
   "mimetype": "text/x-python",
   "name": "python",
   "nbconvert_exporter": "python",
   "pygments_lexer": "ipython3",
   "version": "3.1.0"
  }
 },
 "nbformat": 4,
 "nbformat_minor": 2
}
