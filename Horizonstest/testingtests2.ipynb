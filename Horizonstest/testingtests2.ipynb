{
 "cells": [
  {
   "cell_type": "code",
   "execution_count": 1,
   "metadata": {},
   "outputs": [],
   "source": [
    "import sys\n",
    "\n",
    "sys.path.insert(0, r\"/mnt/c/Users/Trez/Desktop/tudat-bundle/tudatpy/\")\n",
    "from tudatpy.data.mpc import BatchMPC\n",
    "from tudatpy.data.horizons import HorizonsQuery\n",
    "\n",
    "from tudatpy.numerical_simulation import environment_setup\n",
    "from tudatpy.interface import spice\n",
    "\n",
    "import numpy as np\n",
    "import pytest\n",
    "import datetime\n",
    "import matplotlib.pyplot as plt\n",
    "\n",
    "spice.load_standard_kernels()"
   ]
  },
  {
   "cell_type": "code",
   "execution_count": 2,
   "metadata": {},
   "outputs": [],
   "source": [
    "def test_compare_horizons_spice(pos_tolerance=1e3, vel_tolerance=1e-3):\n",
    "    \"\"\"Compares the states from an array of times between HorizonsQuery and SPICE\"\"\"\n",
    "    start = 20 * 365 * 86400\n",
    "    end = 23 * 365 * 86400\n",
    "\n",
    "    npoints = 100\n",
    "\n",
    "    times = np.linspace(start, end, npoints)\n",
    "\n",
    "    query = HorizonsQuery(\n",
    "        query_id=\"299\", location=\"500@399\", epoch_list=list(times), extended_query=True\n",
    "    )\n",
    "    ref = \"ECLIPJ2000\"\n",
    "\n",
    "    horizons_states = query.cartesian(frame_orientation=ref)[:, 1:]\n",
    "    spice_states = []\n",
    "\n",
    "    for time in times:\n",
    "        # from spice\n",
    "        state_spice = spice.get_body_cartesian_state_at_epoch(\n",
    "            \"Venus\", \"Earth\", ref, \"NONE\", time\n",
    "        )\n",
    "        spice_states.append(state_spice)\n",
    "\n",
    "    diff = np.abs(horizons_states - spice_states)\n",
    "    max_diff_pos = diff.max(axis=0)[0:3].max()\n",
    "    max_diff_vel = diff.max(axis=0)[3:6].max()\n",
    "\n",
    "    assert max_diff_pos < pos_tolerance\n",
    "    assert max_diff_vel < vel_tolerance"
   ]
  },
  {
   "cell_type": "code",
   "execution_count": 3,
   "metadata": {},
   "outputs": [],
   "source": [
    "test_compare_horizons_spice()"
   ]
  },
  {
   "cell_type": "code",
   "execution_count": 4,
   "metadata": {},
   "outputs": [
    {
     "name": "stdout",
     "output_type": "stream",
     "text": [
      "0.0008889436721801758\n",
      "1.2541470582050351e-06\n",
      "1.941696246232638e-06\n"
     ]
    }
   ],
   "source": [
    "def test_compare_mpc_horizons_eph():\n",
    "    batch = BatchMPC()\n",
    "    batch.get_observations([433])\n",
    "    batch.filter(\n",
    "        epoch_start=datetime.datetime(2017, 1, 1),\n",
    "        epoch_end=datetime.datetime(2022, 1, 1),\n",
    "        observatories=[\"T08\"],\n",
    "    )\n",
    "    batch_times = batch.table.epochJ2000secondsTDB.to_list()\n",
    "\n",
    "    eros = HorizonsQuery(\n",
    "        query_id=\"433;\", location=\"T08@399\", epoch_list=batch_times, extended_query=True\n",
    "    )\n",
    "\n",
    "    radec_horizons = eros.interpolated_observations(degrees=False)\n",
    "    radec_mpc = batch.table.loc[:, [\"epochJ2000secondsTDB\", \"RA\", \"DEC\"]].reset_index(\n",
    "        drop=True\n",
    "    )\n",
    "\n",
    "    diff = (radec_horizons - radec_mpc).to_numpy()\n",
    "    diff = np.abs(diff).max(axis=0)\n",
    "\n",
    "\n",
    "    time_diff = diff[0]\n",
    "    RA_diff = diff[1]\n",
    "    DEC_diff = diff[2]\n",
    "\n",
    "    print(time_diff)\n",
    "    print(RA_diff)\n",
    "    print(DEC_diff)\n",
    "\n",
    "    assert time_diff < 1e-3\n",
    "    assert RA_diff < 1e-5\n",
    "    assert DEC_diff < 1e-5\n",
    "\n",
    "\n",
    "test_compare_mpc_horizons_eph()"
   ]
  },
  {
   "cell_type": "code",
   "execution_count": 5,
   "metadata": {},
   "outputs": [],
   "source": [
    "# query = HorizonsQuery(\n",
    "#     query_id=\"439;\",\n",
    "#     location=\"500@299\",\n",
    "#     epoch_start=datetime.datetime(2022, 1, 1),\n",
    "#     epoch_end=datetime.datetime(2022, 2, 1),\n",
    "#     epoch_step=\"90030\",\n",
    "#     epoch_list=None,\n",
    "#     extended_query=True,\n",
    "# )\n",
    "\n",
    "# print((query.cartesian()).shape)"
   ]
  },
  {
   "cell_type": "markdown",
   "metadata": {},
   "source": []
  },
  {
   "cell_type": "code",
   "execution_count": null,
   "metadata": {},
   "outputs": [],
   "source": [
    "def test_jpl_hybrid_function():\n",
    "    settings = jpl_horizons()"
   ]
  }
 ],
 "metadata": {
  "kernelspec": {
   "display_name": "tudat-bundle",
   "language": "python",
   "name": "python3"
  },
  "language_info": {
   "codemirror_mode": {
    "name": "ipython",
    "version": 3
   },
   "file_extension": ".py",
   "mimetype": "text/x-python",
   "name": "python",
   "nbconvert_exporter": "python",
   "pygments_lexer": "ipython3",
   "version": "3.1.0"
  }
 },
 "nbformat": 4,
 "nbformat_minor": 2
}
