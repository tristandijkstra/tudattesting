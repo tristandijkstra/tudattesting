{
 "cells": [
  {
   "cell_type": "code",
   "execution_count": 1,
   "metadata": {},
   "outputs": [],
   "source": [
    "%reload_ext autoreload\n",
    "%autoreload 2\n",
    "\n",
    "import sys\n",
    "import datetime\n",
    "import matplotlib.pyplot as plt\n",
    "\n",
    "sys.path.insert(0, r\"/mnt/c/Users/Trez/Desktop/tudat-bundle/tudatpy/\")\n",
    "\n",
    "# Tudat imports for propagation and estimation\n",
    "from tudatpy.kernel.interface import spice\n",
    "from tudatpy.kernel import numerical_simulation, constants\n",
    "from tudatpy.kernel.numerical_simulation import environment_setup\n",
    "from tudatpy.kernel.numerical_simulation import propagation_setup\n",
    "from tudatpy.kernel.numerical_simulation import estimation, estimation_setup\n",
    "from tudatpy.kernel.numerical_simulation.estimation_setup import observation\n",
    "\n",
    "# import MPC interface\n",
    "from tudatpy.data.mpc import BatchMPC\n",
    "from tudatpy.data.horizons import HorizonsQuery, HorizonsBatch\n",
    "\n",
    "# other useful modules\n",
    "import numpy as np\n",
    "import pandas as pd\n",
    "import datetime\n",
    "import matplotlib.pyplot as plt\n",
    "\n",
    "from astropy.time import Time"
   ]
  },
  {
   "cell_type": "code",
   "execution_count": 2,
   "metadata": {},
   "outputs": [
    {
     "name": "stdout",
     "output_type": "stream",
     "text": [
      "[6.89748536e+08 6.89748734e+08 6.89749130e+08 6.89749329e+08\n",
      " 6.89830133e+08 6.89830733e+08 6.89831333e+08 6.89831930e+08\n",
      " 6.89832528e+08 6.89833128e+08 6.89833729e+08 6.89834328e+08\n",
      " 6.89834928e+08 6.89835527e+08]\n",
      "14\n"
     ]
    }
   ],
   "source": [
    "batch = BatchMPC()\n",
    "# batch = batch.filter(observatories=[\"089\"])\n",
    "batch.get_observations([433])\n",
    "batch.filter(\n",
    "    epoch_start=datetime.datetime(2021, 11, 5),\n",
    "    epoch_end=datetime.datetime(2022, 1, 1),\n",
    "    observatories=[\"089\"],\n",
    ")\n",
    "batch_times = batch.table.epochJ2000secondsTDB.values\n",
    "\n",
    "print(batch_times)\n",
    "print(batch.size)"
   ]
  },
  {
   "cell_type": "code",
   "execution_count": 3,
   "metadata": {},
   "outputs": [],
   "source": [
    "venus = HorizonsQuery(\n",
    "    query_id=\"299\",\n",
    "    location=\"@SSB\",\n",
    "    epoch_start=datetime.datetime(2021, 1, 1),\n",
    "    epoch_end=datetime.datetime(2023, 1, 1),\n",
    "    epoch_step=\"1d\",\n",
    ")\n",
    "eros = HorizonsQuery(\n",
    "    query_id=\"433;\",\n",
    "    location=\"089@399\",\n",
    "    epoch_list=batch_times\n",
    ")\n",
    "eros2 = HorizonsQuery(\n",
    "    query_id=\"433;\",\n",
    "    location=\"089@399\",\n",
    "    epoch_list=batch_times\n",
    ")"
   ]
  },
  {
   "cell_type": "code",
   "execution_count": 4,
   "metadata": {},
   "outputs": [
    {
     "name": "stdout",
     "output_type": "stream",
     "text": [
      " targetname       datetime_str       ...  PABLat epochJ2000secondsTDB\n",
      "    ---                              ...   deg                       \n",
      "----------- ------------------------ ... ------- --------------------\n",
      "Venus (299) 2021-Jan-01 00:00:00.000 ...  1.4249          662731200.0\n",
      "Venus (299) 2021-Jan-02 00:00:00.000 ...  1.3385          662817600.0\n",
      "Venus (299) 2021-Jan-03 00:00:00.000 ...  1.2512          662904000.0\n",
      "Venus (299) 2021-Jan-04 00:00:00.000 ...  1.1629          662990400.0\n",
      "Venus (299) 2021-Jan-05 00:00:00.000 ...  1.0737          663076800.0\n",
      "Venus (299) 2021-Jan-06 00:00:00.000 ...  0.9837          663163200.0\n",
      "Venus (299) 2021-Jan-07 00:00:00.000 ...  0.8929          663249600.0\n",
      "Venus (299) 2021-Jan-08 00:00:00.000 ...  0.8014          663336000.0\n",
      "Venus (299) 2021-Jan-09 00:00:00.000 ...  0.7093          663422400.0\n",
      "Venus (299) 2021-Jan-10 00:00:00.000 ...  0.6167          663508800.0\n",
      "        ...                      ... ...     ...                  ...\n",
      "Venus (299) 2022-Dec-23 00:00:00.000 ... -2.5896          725025600.0\n",
      "Venus (299) 2022-Dec-24 00:00:00.000 ... -2.6498          725112000.0\n",
      "Venus (299) 2022-Dec-25 00:00:00.000 ...  -2.708          725198400.0\n",
      "Venus (299) 2022-Dec-26 00:00:00.000 ... -2.7641          725284800.0\n",
      "Venus (299) 2022-Dec-27 00:00:00.000 ... -2.8181          725371200.0\n",
      "Venus (299) 2022-Dec-28 00:00:00.000 ... -2.8699          725457600.0\n",
      "Venus (299) 2022-Dec-29 00:00:00.000 ... -2.9196          725544000.0\n",
      "Venus (299) 2022-Dec-30 00:00:00.000 ... -2.9671          725630400.0\n",
      "Venus (299) 2022-Dec-31 00:00:00.000 ... -3.0122          725716800.0\n",
      "Venus (299) 2023-Jan-01 00:00:00.000 ... -3.0551          725803200.0\n",
      "Length = 731 rows\n"
     ]
    }
   ],
   "source": [
    "a = venus.ephemerides()\n",
    "\n",
    "print(a)"
   ]
  },
  {
   "cell_type": "code",
   "execution_count": 5,
   "metadata": {},
   "outputs": [
    {
     "name": "stdout",
     "output_type": "stream",
     "text": [
      "2020-12-31 23:58:50.816\n",
      "2020-12-31 23:58:50.816\n"
     ]
    }
   ],
   "source": [
    "epoch = {\n",
    "    \"start\": \"2021-01-01 00:00:00.000000\",\n",
    "    \"stop\": \"2023-01-01 00:00:00.000000\",\n",
    "    \"step\": \"1d\",\n",
    "}\n",
    "\n",
    "\n",
    "start = Time(epoch[\"start\"], format=\"iso\", scale=\"tdb\").utc\n",
    "# start.format = 'tdb'\n",
    "\n",
    "print(start)\n",
    "\n",
    "start = start.utc\n",
    "\n",
    "print(start)"
   ]
  },
  {
   "cell_type": "markdown",
   "metadata": {},
   "source": [
    "### RADEC comparison"
   ]
  },
  {
   "cell_type": "code",
   "execution_count": 6,
   "metadata": {},
   "outputs": [
    {
     "name": "stdout",
     "output_type": "stream",
     "text": [
      "   epochJ2000secondsTDB        RA       DEC\n",
      "0          6.897485e+08  5.085946 -0.336130\n",
      "1          6.897487e+08  5.085967 -0.336125\n",
      "2          6.897491e+08  5.086008 -0.336113\n",
      "3          6.897493e+08  5.086029 -0.336110\n",
      "4          6.898301e+08  5.094551 -0.334148\n",
      "   epochJ2000secondsTDB        RA       DEC\n",
      "0          6.897485e+08  5.085946 -0.336129\n",
      "1          6.897487e+08  5.085966 -0.336125\n",
      "2          6.897491e+08  5.086008 -0.336115\n",
      "3          6.897493e+08  5.086029 -0.336110\n",
      "4          6.898301e+08  5.094550 -0.334148\n",
      "max diff:\n",
      "epochJ2000secondsTDB    3.982782e-04\n",
      "RA                      1.047198e-06\n",
      "DEC                     7.369168e-07\n",
      "RA_deg                  6.000000e-05\n",
      "DEC_deg                 4.222222e-05\n",
      "dtype: float64\n",
      "    epochJ2000secondsTDB            RA           DEC    RA_deg   DEC_deg\n",
      "0               0.000396 -3.490659e-07  2.714957e-07 -0.000020  0.000016\n",
      "1               0.000378 -1.163553e-07  1.357478e-07 -0.000007  0.000008\n",
      "2               0.000383 -2.036217e-07 -1.900470e-06 -0.000012 -0.000109\n",
      "3               0.000398 -5.235988e-07  7.757019e-08 -0.000030  0.000004\n",
      "4               0.000356 -5.235988e-07  1.357478e-07 -0.000030  0.000008\n",
      "5               0.000337  1.047198e-06  7.369168e-07  0.000060  0.000042\n",
      "6               0.000351 -8.435758e-07 -9.114497e-07 -0.000048 -0.000052\n",
      "7               0.000358  3.781547e-07  1.745329e-07  0.000022  0.000010\n",
      "8               0.000345 -2.327106e-07 -6.787392e-07 -0.000013 -0.000039\n",
      "9               0.000366 -8.435758e-07 -3.878509e-07 -0.000048 -0.000022\n",
      "10              0.000373 -5.526876e-07 -5.817764e-07 -0.000032 -0.000033\n",
      "11              0.000361 -4.363323e-07  1.939255e-07 -0.000025  0.000011\n",
      "12              0.000335 -8.726646e-07 -4.848137e-07 -0.000050 -0.000028\n",
      "13              0.000362 -2.908882e-08 -8.532721e-07 -0.000002 -0.000049\n",
      "<class 'pandas.core.frame.DataFrame'>\n"
     ]
    }
   ],
   "source": [
    "radec_mpc = batch.table.loc[:, [\"epochJ2000secondsTDB\", \"RA\", \"DEC\"]].reset_index(\n",
    "    drop=True\n",
    ")\n",
    "radec_horizons = (\n",
    "    eros.ephemerides(extra_precision=False, reference_system=\"ICRF\")\n",
    "    .to_pandas()\n",
    "    .loc[:, [\"epochJ2000secondsTDB\", \"RA\", \"DEC\"]]\n",
    ").reset_index(drop=True)\n",
    "radec_horizons[[\"RA\", \"DEC\"]] = radec_horizons[[\"RA\", \"DEC\"]].apply(np.radians)\n",
    "print(radec_mpc.head())\n",
    "print(radec_horizons.head())\n",
    "\n",
    "# print(radec_mpc.head())\n",
    "# print(\"\\n\\n\")\n",
    "# print(radec_horizons.head())\n",
    "\n",
    "diff = radec_horizons - radec_mpc\n",
    "diff[[\"RA_deg\", \"DEC_deg\"]] = diff[[\"RA\", \"DEC\"]].apply(np.degrees)\n",
    "\n",
    "print(\"max diff:\")\n",
    "print(diff.max())\n",
    "print(diff)\n",
    "\n",
    "print(type(radec_horizons))"
   ]
  },
  {
   "cell_type": "code",
   "execution_count": 7,
   "metadata": {},
   "outputs": [
    {
     "name": "stdout",
     "output_type": "stream",
     "text": [
      "<class 'astropy.table.table.Table'>\n"
     ]
    }
   ],
   "source": [
    "a = eros.ephemerides(extra_precision=False, reference_system=\"ICRF\")\n",
    "\n",
    "print(type(a))"
   ]
  },
  {
   "cell_type": "code",
   "execution_count": 12,
   "metadata": {},
   "outputs": [
    {
     "name": "stdout",
     "output_type": "stream",
     "text": [
      "[-3.88299315e+10  6.39540000e-05  4.50902222e-05]\n"
     ]
    }
   ],
   "source": [
    "radec_new = eros.interpolated_observations(degrees=True)\n",
    "radec_mpc2 = radec_mpc.to_numpy()*180/np.pi\n",
    "\n",
    "diff = (radec_new-radec_mpc2)\n",
    "\n",
    "print(diff.max(axis=0))\n",
    "\n",
    "# a = (\n",
    "#     a.to_pandas()\n",
    "#     .loc[:, [\"epochJ2000secondsTDB\", \"RA\", \"DEC\"]]\n",
    "# ).reset_index(drop=True)\n",
    "# # a[[\"RA\", \"DEC\"]] = a[[\"RA\", \"DEC\"]].apply(np.radians)\n",
    "\n",
    "# print(a)\n",
    "# print(batch.observatories)\n",
    "# print(a.columns)"
   ]
  },
  {
   "cell_type": "code",
   "execution_count": 9,
   "metadata": {},
   "outputs": [
    {
     "name": "stdout",
     "output_type": "stream",
     "text": [
      "\n"
     ]
    }
   ],
   "source": [
    "print()"
   ]
  }
 ],
 "metadata": {
  "kernelspec": {
   "display_name": "tudat-bundle",
   "language": "python",
   "name": "python3"
  },
  "language_info": {
   "codemirror_mode": {
    "name": "ipython",
    "version": 3
   },
   "file_extension": ".py",
   "mimetype": "text/x-python",
   "name": "python",
   "nbconvert_exporter": "python",
   "pygments_lexer": "ipython3",
   "version": "3.1.0"
  }
 },
 "nbformat": 4,
 "nbformat_minor": 2
}
