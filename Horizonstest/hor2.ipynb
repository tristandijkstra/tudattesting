{
 "cells": [
  {
   "cell_type": "code",
   "execution_count": 1,
   "metadata": {},
   "outputs": [],
   "source": [
    "import sys\n",
    "import datetime\n",
    "import matplotlib.pyplot as plt\n",
    "sys.path.insert(0, r\"/mnt/c/Users/Trez/Desktop/tudat-bundle/tudatpy/\")\n",
    "from tudatpy.data.horizons import HorizonsQuery"
   ]
  },
  {
   "cell_type": "code",
   "execution_count": 2,
   "metadata": {},
   "outputs": [
    {
     "ename": "AttributeError",
     "evalue": "'TimeDelta' object has no attribute 'seconds'",
     "output_type": "error",
     "traceback": [
      "\u001b[0;31m---------------------------------------------------------------------------\u001b[0m",
      "\u001b[0;31mAttributeError\u001b[0m                            Traceback (most recent call last)",
      "\u001b[1;32m/mnt/c/Users/Trez/Desktop/astroquerytest/Horizonstest/hor2.ipynb Cell 2\u001b[0m line \u001b[0;36m1\n\u001b[0;32m----> <a href='vscode-notebook-cell://wsl%2Bubuntu/mnt/c/Users/Trez/Desktop/astroquerytest/Horizonstest/hor2.ipynb#W1sdnNjb2RlLXJlbW90ZQ%3D%3D?line=0'>1</a>\u001b[0m query \u001b[39m=\u001b[39m HorizonsQuery(\n\u001b[1;32m      <a href='vscode-notebook-cell://wsl%2Bubuntu/mnt/c/Users/Trez/Desktop/astroquerytest/Horizonstest/hor2.ipynb#W1sdnNjb2RlLXJlbW90ZQ%3D%3D?line=1'>2</a>\u001b[0m     query_id\u001b[39m=\u001b[39;49m\u001b[39m\"\u001b[39;49m\u001b[39m-121\u001b[39;49m\u001b[39m\"\u001b[39;49m,\n\u001b[1;32m      <a href='vscode-notebook-cell://wsl%2Bubuntu/mnt/c/Users/Trez/Desktop/astroquerytest/Horizonstest/hor2.ipynb#W1sdnNjb2RlLXJlbW90ZQ%3D%3D?line=2'>3</a>\u001b[0m     location\u001b[39m=\u001b[39;49m\u001b[39m\"\u001b[39;49m\u001b[39m@SSB\u001b[39;49m\u001b[39m\"\u001b[39;49m,\n\u001b[1;32m      <a href='vscode-notebook-cell://wsl%2Bubuntu/mnt/c/Users/Trez/Desktop/astroquerytest/Horizonstest/hor2.ipynb#W1sdnNjb2RlLXJlbW90ZQ%3D%3D?line=3'>4</a>\u001b[0m     epoch_start\u001b[39m=\u001b[39;49mdatetime\u001b[39m.\u001b[39;49mdatetime(\u001b[39m2018\u001b[39;49m, \u001b[39m10\u001b[39;49m, \u001b[39m21\u001b[39;49m),\n\u001b[1;32m      <a href='vscode-notebook-cell://wsl%2Bubuntu/mnt/c/Users/Trez/Desktop/astroquerytest/Horizonstest/hor2.ipynb#W1sdnNjb2RlLXJlbW90ZQ%3D%3D?line=4'>5</a>\u001b[0m     epoch_end\u001b[39m=\u001b[39;49mdatetime\u001b[39m.\u001b[39;49mdatetime(\u001b[39m2023\u001b[39;49m, \u001b[39m9\u001b[39;49m, \u001b[39m1\u001b[39;49m),\n\u001b[1;32m      <a href='vscode-notebook-cell://wsl%2Bubuntu/mnt/c/Users/Trez/Desktop/astroquerytest/Horizonstest/hor2.ipynb#W1sdnNjb2RlLXJlbW90ZQ%3D%3D?line=5'>6</a>\u001b[0m     epoch_step\u001b[39m=\u001b[39;49m\u001b[39m\"\u001b[39;49m\u001b[39m1h\u001b[39;49m\u001b[39m\"\u001b[39;49m,\n\u001b[1;32m      <a href='vscode-notebook-cell://wsl%2Bubuntu/mnt/c/Users/Trez/Desktop/astroquerytest/Horizonstest/hor2.ipynb#W1sdnNjb2RlLXJlbW90ZQ%3D%3D?line=6'>7</a>\u001b[0m )\n\u001b[1;32m     <a href='vscode-notebook-cell://wsl%2Bubuntu/mnt/c/Users/Trez/Desktop/astroquerytest/Horizonstest/hor2.ipynb#W1sdnNjb2RlLXJlbW90ZQ%3D%3D?line=9'>10</a>\u001b[0m \u001b[39m# print(query.vectors())\u001b[39;00m\n",
      "File \u001b[0;32m/mnt/c/Users/Trez/Desktop/tudat-bundle/tudatpy/tudatpy/data/horizons.py:47\u001b[0m, in \u001b[0;36mHorizonsQuery.__init__\u001b[0;34m(self, query_id, location, query_type, epoch_list, epoch_start, epoch_end, epoch_step, extended_query)\u001b[0m\n\u001b[1;32m     42\u001b[0m     \u001b[39mraise\u001b[39;00m \u001b[39mValueError\u001b[39;00m(\n\u001b[1;32m     43\u001b[0m         \u001b[39m\"\u001b[39m\u001b[39mMust specify either a list of times in sec since J2000 \u001b[39m\u001b[39m\\\u001b[39;00m\n\u001b[1;32m     44\u001b[0m \u001b[39m                     or a combined start, end and step parameters\u001b[39m\u001b[39m\"\u001b[39m\n\u001b[1;32m     45\u001b[0m     )\n\u001b[1;32m     46\u001b[0m \u001b[39melse\u001b[39;00m:\n\u001b[0;32m---> 47\u001b[0m     ts_seconds, num_steps \u001b[39m=\u001b[39m \u001b[39mself\u001b[39;49m\u001b[39m.\u001b[39;49m_interpret_timestep(\n\u001b[1;32m     48\u001b[0m         epoch_step, epoch_start, epoch_end\n\u001b[1;32m     49\u001b[0m     )\n\u001b[1;32m     51\u001b[0m     epoch_start \u001b[39m=\u001b[39m \u001b[39mself\u001b[39m\u001b[39m.\u001b[39m_convert_time(epoch_start)\n\u001b[1;32m     52\u001b[0m     epoch_end \u001b[39m=\u001b[39m \u001b[39mself\u001b[39m\u001b[39m.\u001b[39m_convert_time(epoch_end)\n",
      "File \u001b[0;32m/mnt/c/Users/Trez/Desktop/tudat-bundle/tudatpy/tudatpy/data/horizons.py:167\u001b[0m, in \u001b[0;36mHorizonsQuery._interpret_timestep\u001b[0;34m(self, timestep, start, end)\u001b[0m\n\u001b[1;32m    163\u001b[0m \u001b[39m# end is python datetime\u001b[39;00m\n\u001b[1;32m    164\u001b[0m \u001b[39melse\u001b[39;00m:\n\u001b[1;32m    165\u001b[0m     endjd \u001b[39m=\u001b[39m Time(end, \u001b[39mformat\u001b[39m\u001b[39m=\u001b[39m\u001b[39m\"\u001b[39m\u001b[39mdatetime\u001b[39m\u001b[39m\"\u001b[39m, scale\u001b[39m=\u001b[39m\u001b[39m\"\u001b[39m\u001b[39mtdb\u001b[39m\u001b[39m\"\u001b[39m)\n\u001b[0;32m--> 167\u001b[0m duration \u001b[39m=\u001b[39m (endjd \u001b[39m-\u001b[39;49m startjd)\u001b[39m.\u001b[39;49mseconds\n\u001b[1;32m    169\u001b[0m \u001b[39mif\u001b[39;00m time_seconds \u001b[39mis\u001b[39;00m \u001b[39mNone\u001b[39;00m:\n\u001b[1;32m    170\u001b[0m     time_seconds \u001b[39m=\u001b[39m duration \u001b[39m/\u001b[39m numerical_part\n",
      "File \u001b[0;32m~/miniconda3/envs/tudat-bundle/lib/python3.11/site-packages/astropy/time/core.py:1671\u001b[0m, in \u001b[0;36mTimeBase.__getattr__\u001b[0;34m(self, attr)\u001b[0m\n\u001b[1;32m   1664\u001b[0m         \u001b[39mraise\u001b[39;00m ScaleValueError(\n\u001b[1;32m   1665\u001b[0m             \u001b[39mf\u001b[39m\u001b[39m\"\u001b[39m\u001b[39mCannot convert \u001b[39m\u001b[39m{\u001b[39;00m\u001b[39mself\u001b[39m\u001b[39m.\u001b[39m\u001b[39m__class__\u001b[39m\u001b[39m.\u001b[39m\u001b[39m__name__\u001b[39m\u001b[39m}\u001b[39;00m\u001b[39m with scale \u001b[39m\u001b[39m\"\u001b[39m\n\u001b[1;32m   1666\u001b[0m             \u001b[39mf\u001b[39m\u001b[39m\"\u001b[39m\u001b[39m'\u001b[39m\u001b[39m{\u001b[39;00m\u001b[39mself\u001b[39m\u001b[39m.\u001b[39mscale\u001b[39m}\u001b[39;00m\u001b[39m'\u001b[39m\u001b[39m to scale \u001b[39m\u001b[39m'\u001b[39m\u001b[39m{\u001b[39;00mattr\u001b[39m}\u001b[39;00m\u001b[39m'\u001b[39m\u001b[39m\"\u001b[39m\n\u001b[1;32m   1667\u001b[0m         )\n\u001b[1;32m   1669\u001b[0m \u001b[39melse\u001b[39;00m:\n\u001b[1;32m   1670\u001b[0m     \u001b[39m# Should raise AttributeError\u001b[39;00m\n\u001b[0;32m-> 1671\u001b[0m     \u001b[39mreturn\u001b[39;00m \u001b[39mself\u001b[39;49m\u001b[39m.\u001b[39;49m\u001b[39m__getattribute__\u001b[39;49m(attr)\n",
      "\u001b[0;31mAttributeError\u001b[0m: 'TimeDelta' object has no attribute 'seconds'"
     ]
    }
   ],
   "source": [
    "query = HorizonsQuery(\n",
    "    query_id=\"-121\",\n",
    "    location=\"@SSB\",\n",
    "    epoch_start=datetime.datetime(2018, 10, 21),\n",
    "    epoch_end=datetime.datetime(2023, 9, 1),\n",
    "    epoch_step=\"1h\",\n",
    ")\n",
    "\n",
    "\n",
    "# print(query.vectors())"
   ]
  },
  {
   "cell_type": "code",
   "execution_count": null,
   "metadata": {},
   "outputs": [],
   "source": []
  }
 ],
 "metadata": {
  "kernelspec": {
   "display_name": "tudat-bundle",
   "language": "python",
   "name": "python3"
  },
  "language_info": {
   "codemirror_mode": {
    "name": "ipython",
    "version": 3
   },
   "file_extension": ".py",
   "mimetype": "text/x-python",
   "name": "python",
   "nbconvert_exporter": "python",
   "pygments_lexer": "ipython3",
   "version": "3.11.4"
  },
  "orig_nbformat": 4
 },
 "nbformat": 4,
 "nbformat_minor": 2
}
