{
 "cells": [
  {
   "cell_type": "code",
   "execution_count": 21,
   "metadata": {},
   "outputs": [],
   "source": [
    "import sys\n",
    "import datetime\n",
    "import matplotlib.pyplot as plt\n",
    "sys.path.insert(0, r\"/mnt/c/Users/Trez/Desktop/tudat-bundle/tudatpy/\")\n",
    "from tudatpy.data.horizons import HorizonsQuery\n",
    "from tudatpy.data.mpc import BatchMPC\n",
    "import time\n",
    "import matplotlib.pyplot as plt\n",
    "import numpy as np\n"
   ]
  },
  {
   "cell_type": "code",
   "execution_count": 22,
   "metadata": {},
   "outputs": [],
   "source": [
    "start_dt = datetime.datetime(2018, 6, 1)\n",
    "end_dt = datetime.datetime(2023, 6, 1)"
   ]
  },
  {
   "cell_type": "code",
   "execution_count": 23,
   "metadata": {},
   "outputs": [
    {
     "name": "stdout",
     "output_type": "stream",
     "text": [
      "\n",
      "   Batch Summary:\n",
      "1. Batch includes 50 minor planets:\n",
      "   ['1', '2', '3', '4', '5', '6', '7', '8', '9', '10', '11', '12', '13', '14', '15', '16', '17', '18', '19', '20', '21', '22', '23', '24', '25', '26', '27', '28', '29', '30', '31', '32', '33', '34', '35', '36', '37', '38', '39', '40', '41', '42', '43', '44', '45', '46', '47', '48', '49', '50']\n",
      "2. Batch includes 315796 observations, including 97443 observations from space telescopes\n",
      "3. The observations range from 1801-01-01 19:49:52.319986 to 2023-08-29 15:19:45.580815\n",
      "   In seconds TDB since J2000: -6279782975.49596 to 746594454.7635019\n",
      "   In Julian Days: 2378862.3263 to 2460186.138722\n",
      "4. The batch contains observations from 726 observatories, including 3 space telescopes\n",
      "\n"
     ]
    }
   ],
   "source": [
    "batch = BatchMPC()\n",
    "codes = list(range(1, 50 + 1))\n",
    "batch.get_observations(codes)"
   ]
  },
  {
   "cell_type": "code",
   "execution_count": 31,
   "metadata": {},
   "outputs": [
    {
     "name": "stdout",
     "output_type": "stream",
     "text": [
      "\n",
      "   Batch Summary:\n",
      "1. Batch includes 50 minor planets:\n",
      "   ['1', '2', '3', '4', '5', '6', '7', '8', '9', '10', '11', '12', '13', '14', '15', '16', '17', '18', '19', '20', '21', '22', '23', '24', '25', '26', '27', '28', '29', '30', '31', '32', '33', '34', '35', '36', '37', '38', '39', '40', '41', '42', '43', '44', '45', '46', '47', '48', '49', '50']\n",
      "2. Batch includes 135764 observations, including 92332 observations from space telescopes\n",
      "3. The observations range from 2018-06-01 05:51:39.744013 to 2023-05-31 07:16:04.771217\n",
      "   In seconds TDB since J2000: 581104368.9289123 to 738789433.9561567\n",
      "   In Julian Days: 2458270.74421 to 2460095.802833\n",
      "4. The batch contains observations from 144 observatories, including 3 space telescopes\n",
      "\n"
     ]
    }
   ],
   "source": [
    "batch.filter(epoch_start=start_dt, epoch_end=end_dt)\n",
    "batch.summary()"
   ]
  },
  {
   "cell_type": "code",
   "execution_count": 25,
   "metadata": {},
   "outputs": [
    {
     "name": "stdout",
     "output_type": "stream",
     "text": [
      "     Code             Name    count\n",
      "247   247  Roving Observer      6.0\n",
      "1225  C51             WISE   4745.0\n",
      "1231  C57             TESS  87581.0\n",
      "['WISE', 'TESS']\n"
     ]
    }
   ],
   "source": [
    "space_telescopes = (batch.observatories_table(only_space_telescopes=True))\n",
    "print(space_telescopes)\n",
    "space_telescopes = space_telescopes.Name.iloc[1:].tolist()\n",
    "print(space_telescopes)"
   ]
  },
  {
   "cell_type": "code",
   "execution_count": 30,
   "metadata": {},
   "outputs": [
    {
     "data": {
      "text/plain": [
       "43825"
      ]
     },
     "execution_count": 30,
     "metadata": {},
     "output_type": "execute_result"
    }
   ],
   "source": [
    "wise_query = HorizonsQuery(\n",
    "    query_id=\"WISE\",\n",
    "    location=\"399\",\n",
    "    epoch_start=start_dt,\n",
    "    epoch_end=end_dt,\n",
    "    epoch_step=\"1h\",\n",
    "    extended_query=True\n",
    ")\n",
    "tess_query = HorizonsQuery(\n",
    "    query_id=\"TESS\",\n",
    "    location=\"399\",\n",
    "    epoch_start=start_dt,\n",
    "    epoch_end=end_dt,\n",
    "    epoch_step=\"1h\",\n",
    "    extended_query=True\n",
    ")\n",
    "\n",
    "wise_query.carthesian(\"earth\")\n",
    "len(tess_query.carthesian(\"earth\"))"
   ]
  },
  {
   "cell_type": "code",
   "execution_count": null,
   "metadata": {},
   "outputs": [],
   "source": []
  }
 ],
 "metadata": {
  "kernelspec": {
   "display_name": "tudat-bundle",
   "language": "python",
   "name": "python3"
  },
  "language_info": {
   "codemirror_mode": {
    "name": "ipython",
    "version": 3
   },
   "file_extension": ".py",
   "mimetype": "text/x-python",
   "name": "python",
   "nbconvert_exporter": "python",
   "pygments_lexer": "ipython3",
   "version": "3.11.4"
  },
  "orig_nbformat": 4
 },
 "nbformat": 4,
 "nbformat_minor": 2
}
