{
 "cells": [
  {
   "cell_type": "code",
   "execution_count": 1,
   "metadata": {},
   "outputs": [],
   "source": [
    "import sys\n",
    "\n",
    "sys.path.insert(0, r\"C:/Users/Trez/Desktop/astroquery/\")\n",
    "\n",
    "from astroquery.mpc import MPC"
   ]
  },
  {
   "cell_type": "code",
   "execution_count": 2,
   "metadata": {},
   "outputs": [
    {
     "data": {
      "text/html": [
       "<div><i>QTable length=2772</i>\n",
       "<table id=\"table139912864353680\" class=\"table-striped table-bordered table-condensed\">\n",
       "<thead><tr><th>number</th><th>desig</th><th>discovery</th><th>note1</th><th>note2</th><th>epoch</th><th>RA</th><th>DEC</th><th>mag</th><th>band</th><th>catalog</th><th>observatory</th></tr></thead>\n",
       "<thead><tr><th></th><th></th><th></th><th></th><th></th><th>d</th><th>deg</th><th>deg</th><th>mag</th><th></th><th></th><th></th></tr></thead>\n",
       "<thead><tr><th>int64</th><th>str9</th><th>str1</th><th>str1</th><th>str1</th><th>float64</th><th>float64</th><th>float64</th><th>float64</th><th>str1</th><th>str1</th><th>str3</th></tr></thead>\n",
       "<tr><td>12893</td><td>1998 QS55</td><td>--</td><td>--</td><td>--</td><td>2445615.90478</td><td>313.01620833333334</td><td>-15.78888888888889</td><td>———</td><td>--</td><td>--</td><td>413</td></tr>\n",
       "<tr><td>12893</td><td>1998 QS55</td><td>--</td><td>--</td><td>--</td><td>2445615.94645</td><td>313.01933333333335</td><td>-15.788944444444445</td><td>———</td><td>--</td><td>--</td><td>413</td></tr>\n",
       "<tr><td>12893</td><td>1998 QS55</td><td>*</td><td>4</td><td>--</td><td>2449247.75833</td><td>13.033</td><td>5.526472222222222</td><td>———</td><td>--</td><td>--</td><td>809</td></tr>\n",
       "<tr><td>12893</td><td>1998 QS55</td><td>--</td><td>4</td><td>--</td><td>2449247.76875</td><td>13.031083333333333</td><td>5.525555555555555</td><td>———</td><td>--</td><td>--</td><td>809</td></tr>\n",
       "<tr><td>12893</td><td>1998 QS55</td><td>--</td><td>4</td><td>--</td><td>2449247.77917</td><td>13.028833333333333</td><td>5.524805555555555</td><td>———</td><td>--</td><td>--</td><td>809</td></tr>\n",
       "<tr><td>12893</td><td>1998 QS55</td><td>--</td><td>4</td><td>--</td><td>2449248.75</td><td>12.867999999999999</td><td>5.440555555555556</td><td>18.4</td><td>--</td><td>--</td><td>809</td></tr>\n",
       "<tr><td>12893</td><td>1998 QS55</td><td>--</td><td>4</td><td>--</td><td>2449248.76042</td><td>12.865999999999998</td><td>5.439805555555556</td><td>———</td><td>--</td><td>--</td><td>809</td></tr>\n",
       "<tr><td>12893</td><td>1998 QS55</td><td>--</td><td>4</td><td>--</td><td>2449248.77083</td><td>12.863999999999999</td><td>5.438666666666667</td><td>———</td><td>--</td><td>--</td><td>809</td></tr>\n",
       "<tr><td>12893</td><td>1998 QS55</td><td>--</td><td>4</td><td>--</td><td>2449252.78229</td><td>12.163791666666667</td><td>5.076499999999999</td><td>18.3</td><td>--</td><td>--</td><td>809</td></tr>\n",
       "<tr><td>...</td><td>...</td><td>...</td><td>...</td><td>...</td><td>...</td><td>...</td><td>...</td><td>...</td><td>...</td><td>...</td><td>...</td></tr>\n",
       "<tr><td>12893</td><td>1998 QS55</td><td>--</td><td>--</td><td>C</td><td>2460330.028811</td><td>160.32912499999998</td><td>6.153205555555556</td><td>18.59</td><td>w</td><td>X</td><td>F51</td></tr>\n",
       "<tr><td>12893</td><td>1998 QS55</td><td>--</td><td>--</td><td>C</td><td>2460330.040027</td><td>160.32794166666665</td><td>6.153647222222222</td><td>18.48</td><td>w</td><td>X</td><td>F51</td></tr>\n",
       "<tr><td>12893</td><td>1998 QS55</td><td>--</td><td>--</td><td>C</td><td>2460332.936463</td><td>160.01999166666664</td><td>6.278180555555555</td><td>18.82</td><td>o</td><td>V</td><td>T05</td></tr>\n",
       "<tr><td>12893</td><td>1998 QS55</td><td>--</td><td>--</td><td>C</td><td>2460332.938272</td><td>160.01992083333332</td><td>6.27815</td><td>18.32</td><td>o</td><td>V</td><td>T05</td></tr>\n",
       "<tr><td>12893</td><td>1998 QS55</td><td>--</td><td>--</td><td>C</td><td>2460332.959037</td><td>160.01729999999998</td><td>6.278880555555555</td><td>18.71</td><td>o</td><td>V</td><td>T05</td></tr>\n",
       "<tr><td>12893</td><td>1998 QS55</td><td>--</td><td>--</td><td>C</td><td>2460332.961879</td><td>160.01707916666663</td><td>6.279280555555555</td><td>18.31</td><td>o</td><td>V</td><td>T05</td></tr>\n",
       "<tr><td>12893</td><td>1998 QS55</td><td>--</td><td>--</td><td>C</td><td>2460333.527653</td><td>159.95104999999998</td><td>6.307080555555555</td><td>18.41</td><td>o</td><td>V</td><td>M22</td></tr>\n",
       "<tr><td>12893</td><td>1998 QS55</td><td>--</td><td>--</td><td>C</td><td>2460333.530841</td><td>159.95070833333332</td><td>6.306830555555555</td><td>18.52</td><td>o</td><td>V</td><td>M22</td></tr>\n",
       "<tr><td>12893</td><td>1998 QS55</td><td>--</td><td>--</td><td>C</td><td>2460333.536303</td><td>159.9499083333333</td><td>6.30735</td><td>18.43</td><td>o</td><td>V</td><td>M22</td></tr>\n",
       "<tr><td>12893</td><td>1998 QS55</td><td>--</td><td>--</td><td>C</td><td>2460333.544341</td><td>159.94902916666666</td><td>6.3076888888888885</td><td>18.2</td><td>o</td><td>V</td><td>M22</td></tr>\n",
       "</table></div>"
      ],
      "text/plain": [
       "<QTable length=2772>\n",
       "number   desig   discovery note1 note2 ...   mag   band catalog observatory\n",
       "                                       ...   mag                           \n",
       "int64     str9      str1    str1  str1 ... float64 str1   str1      str3   \n",
       "------ --------- --------- ----- ----- ... ------- ---- ------- -----------\n",
       " 12893 1998 QS55        --    --    -- ...     ———   --      --         413\n",
       " 12893 1998 QS55        --    --    -- ...     ———   --      --         413\n",
       " 12893 1998 QS55         *     4    -- ...     ———   --      --         809\n",
       " 12893 1998 QS55        --     4    -- ...     ———   --      --         809\n",
       " 12893 1998 QS55        --     4    -- ...     ———   --      --         809\n",
       " 12893 1998 QS55        --     4    -- ...    18.4   --      --         809\n",
       " 12893 1998 QS55        --     4    -- ...     ———   --      --         809\n",
       " 12893 1998 QS55        --     4    -- ...     ———   --      --         809\n",
       " 12893 1998 QS55        --     4    -- ...    18.3   --      --         809\n",
       "   ...       ...       ...   ...   ... ...     ...  ...     ...         ...\n",
       " 12893 1998 QS55        --    --     C ...   18.59    w       X         F51\n",
       " 12893 1998 QS55        --    --     C ...   18.48    w       X         F51\n",
       " 12893 1998 QS55        --    --     C ...   18.82    o       V         T05\n",
       " 12893 1998 QS55        --    --     C ...   18.32    o       V         T05\n",
       " 12893 1998 QS55        --    --     C ...   18.71    o       V         T05\n",
       " 12893 1998 QS55        --    --     C ...   18.31    o       V         T05\n",
       " 12893 1998 QS55        --    --     C ...   18.41    o       V         M22\n",
       " 12893 1998 QS55        --    --     C ...   18.52    o       V         M22\n",
       " 12893 1998 QS55        --    --     C ...   18.43    o       V         M22\n",
       " 12893 1998 QS55        --    --     C ...    18.2    o       V         M22"
      ]
     },
     "execution_count": 2,
     "metadata": {},
     "output_type": "execute_result"
    }
   ],
   "source": [
    "MPC.get_observations(12893)"
   ]
  },
  {
   "cell_type": "code",
   "execution_count": null,
   "metadata": {},
   "outputs": [],
   "source": []
  },
  {
   "cell_type": "code",
   "execution_count": null,
   "metadata": {},
   "outputs": [],
   "source": [
    "MPC.get_observations(12893)"
   ]
  },
  {
   "cell_type": "code",
   "execution_count": 4,
   "metadata": {},
   "outputs": [
    {
     "name": "stdout",
     "output_type": "stream",
     "text": [
      "number   desig   discovery note1 note2 ...  mag  band catalog observatory\n",
      "                                       ...  mag                          \n",
      "------ --------- --------- ----- ----- ... ----- ---- ------- -----------\n",
      " 12893 1998 QS55        --    --    -- ...   ———   --      --         413\n",
      " 12893 1998 QS55        --    --    -- ...   ———   --      --         413\n",
      " 12893 1998 QS55         *     4    -- ...   ———   --      --         809\n",
      " 12893 1998 QS55        --     4    -- ...   ———   --      --         809\n",
      " 12893 1998 QS55        --     4    -- ...   ———   --      --         809\n",
      " 12893 1998 QS55        --     4    -- ...  18.4   --      --         809\n",
      " 12893 1998 QS55        --     4    -- ...   ———   --      --         809\n",
      " 12893 1998 QS55        --     4    -- ...   ———   --      --         809\n",
      " 12893 1998 QS55        --     4    -- ...  18.3   --      --         809\n",
      " 12893 1998 QS55        --     4    -- ...   ———   --      --         809\n",
      "   ...       ...       ...   ...   ... ...   ...  ...     ...         ...\n",
      " 12893 1998 QS55        --    --     C ... 18.59    w       X         F51\n",
      " 12893 1998 QS55        --    --     C ... 18.48    w       X         F51\n",
      " 12893 1998 QS55        --    --     C ... 18.82    o       V         T05\n",
      " 12893 1998 QS55        --    --     C ... 18.32    o       V         T05\n",
      " 12893 1998 QS55        --    --     C ... 18.71    o       V         T05\n",
      " 12893 1998 QS55        --    --     C ... 18.31    o       V         T05\n",
      " 12893 1998 QS55        --    --     C ... 18.41    o       V         M22\n",
      " 12893 1998 QS55        --    --     C ... 18.52    o       V         M22\n",
      " 12893 1998 QS55        --    --     C ... 18.43    o       V         M22\n",
      " 12893 1998 QS55        --    --     C ...  18.2    o       V         M22\n",
      "Length = 2772 rows\n",
      "['number   desig   discovery note1 note2 ...  mag  band catalog observatory', '                                       ...  mag                          ', '------ --------- --------- ----- ----- ... ----- ---- ------- -----------', ' 12893 1998 QS55        --    --    -- ...   ———   --      --         413', ' 12893 1998 QS55        --    --    -- ...   ———   --      --         413', ' 12893 1998 QS55         *     4    -- ...   ———   --      --         809', ' 12893 1998 QS55        --     4    -- ...   ———   --      --         809', ' 12893 1998 QS55        --     4    -- ...   ———   --      --         809', ' 12893 1998 QS55        --     4    -- ...  18.4   --      --         809', ' 12893 1998 QS55        --     4    -- ...   ———   --      --         809', ' 12893 1998 QS55        --     4    -- ...   ———   --      --         809', ' 12893 1998 QS55        --     4    -- ...  18.3   --      --         809', ' 12893 1998 QS55        --     4    -- ...   ———   --      --         809', '   ...       ...       ...   ...   ... ...   ...  ...     ...         ...', ' 12893 1998 QS55        --    --     C ... 18.59    w       X         F51', ' 12893 1998 QS55        --    --     C ... 18.48    w       X         F51', ' 12893 1998 QS55        --    --     C ... 18.82    o       V         T05', ' 12893 1998 QS55        --    --     C ... 18.32    o       V         T05', ' 12893 1998 QS55        --    --     C ... 18.71    o       V         T05', ' 12893 1998 QS55        --    --     C ... 18.31    o       V         T05', ' 12893 1998 QS55        --    --     C ... 18.41    o       V         M22', ' 12893 1998 QS55        --    --     C ... 18.52    o       V         M22', ' 12893 1998 QS55        --    --     C ... 18.43    o       V         M22', ' 12893 1998 QS55        --    --     C ...  18.2    o       V         M22', 'Length = 2772 rows']\n"
     ]
    }
   ],
   "source": [
    "obs = MPC.get_observations(12893)\n",
    "print(obs)  # doctest: +IGNORE_OUTPUT\n"
   ]
  },
  {
   "cell_type": "code",
   "execution_count": null,
   "metadata": {},
   "outputs": [],
   "source": [
    "print(obs.pformat(max_width=82))  # doctest: +IGNORE_OUTPUT"
   ]
  }
 ],
 "metadata": {
  "kernelspec": {
   "display_name": "Python 3",
   "language": "python",
   "name": "python3"
  },
  "language_info": {
   "codemirror_mode": {
    "name": "ipython",
    "version": 3
   },
   "file_extension": ".py",
   "mimetype": "text/x-python",
   "name": "python",
   "nbconvert_exporter": "python",
   "pygments_lexer": "ipython3",
   "version": "3.10.12"
  }
 },
 "nbformat": 4,
 "nbformat_minor": 2
}
