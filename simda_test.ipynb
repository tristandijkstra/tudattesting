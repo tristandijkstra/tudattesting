{
 "cells": [
  {
   "cell_type": "code",
   "execution_count": 2,
   "metadata": {},
   "outputs": [],
   "source": [
    "import pandas as pd\n",
    "import numpy as np"
   ]
  },
  {
   "cell_type": "code",
   "execution_count": 3,
   "metadata": {},
   "outputs": [
    {
     "name": "stdout",
     "output_type": "stream",
     "text": [
      "[1 2 1 2 1 2]\n"
     ]
    }
   ],
   "source": [
    "a = np.array([1, 1, 1])\n",
    "b = np.array([2, 2, 2])\n",
    "\n",
    "print(np.ravel([a, b], \"F\"))"
   ]
  },
  {
   "cell_type": "code",
   "execution_count": 19,
   "metadata": {},
   "outputs": [
    {
     "name": "stderr",
     "output_type": "stream",
     "text": [
      "/home/trez/miniconda3/envs/tudat-bundle/lib/python3.11/site-packages/pandas/core/series.py:917: RuntimeWarning: invalid value encountered in cast\n",
      "  arr = np.asarray(values, dtype=dtype)\n"
     ]
    }
   ],
   "source": [
    "file = \"SiMDA_240512.csv\"\n",
    "P = pd.read_csv(file).assign(NUM = lambda x: np.int32(x.NUM))"
   ]
  },
  {
   "cell_type": "code",
   "execution_count": 21,
   "metadata": {},
   "outputs": [],
   "source": [
    "codes = {x for x in range(100)}"
   ]
  },
  {
   "cell_type": "code",
   "execution_count": 25,
   "metadata": {},
   "outputs": [
    {
     "name": "stdout",
     "output_type": "stream",
     "text": [
      "     NUM DESIGNATION          MASS\n",
      "18     1       Ceres  9.380000e+20\n",
      "19     2      Pallas  2.050000e+20\n",
      "20     3        Juno  2.630000e+19\n",
      "21     4       Vesta  2.590000e+20\n",
      "22     5     Astraea  2.930000e+18\n",
      "..   ...         ...           ...\n",
      "108   95    Arethusa  2.250000e+18\n",
      "109   96       Aegle  6.720000e+18\n",
      "110   97      Klotho  1.370000e+18\n",
      "111   98      Ianthe  8.900000e+17\n",
      "112   99        Dike  5.080000e+17\n",
      "\n",
      "[95 rows x 3 columns]\n",
      "           NUM   DESIGNATION  DYN    BD  BD.E  BD.R RNK   DIAM   D.E  D.R  \\\n",
      "0  -2147483648  10P/Tempel 2  COM  0.76  0.46    61   D    9.6   1.4   14   \n",
      "1  -2147483648      1999 OJ4  TNO  0.34  0.35   104   E  130.0  45.0   35   \n",
      "2  -2147483648   19P/Borrely  COM  0.05  0.04    82   X    4.8   0.4    8   \n",
      "3  -2147483648     1P/Halley  COM  0.54  0.38    69   D   10.4   2.0   19   \n",
      "4  -2147483648    2000 QL251  TNO  1.76  1.76   100   E  150.0  50.0   33   \n",
      "5  -2147483648    2001 QC298  TNO  1.42  0.96    68   D  244.0  55.0   23   \n",
      "6  -2147483648     2003 QY90  TNO  0.57  0.72   127   E  150.0  50.0   33   \n",
      "7  -2147483648     2003 TJ58  TNO  1.02  1.02   100   E   75.0  25.0   33   \n",
      "8  -2147483648    2004 PB108  TNO  6.74  7.23   107   E  140.0  50.0   36   \n",
      "9  -2147483648     22P/Kopff  COM  0.22  0.12    53   D    3.6   0.4   11   \n",
      "10 -2147483648      2P/Encke  COM  1.71  1.39    82   D    4.7   0.8   17   \n",
      "11 -2147483648     45P/H-M-P  COM  1.26  2.59   205   E    0.7   0.2   30   \n",
      "12 -2147483648  46P/Wirtanen  COM  0.41  0.30    71   D    1.1   0.1    5   \n",
      "13 -2147483648       67P/C-G  COM  0.54  0.00     0   A    3.3   0.0    0   \n",
      "14 -2147483648    6P/dArrest  COM  1.09  0.49    45   C    1.7   0.2   12   \n",
      "15 -2147483648    81P/Wild 2  COM  1.44  0.89    62   D    2.2   0.4   20   \n",
      "16 -2147483648   9P/Tempel 1  COM  0.45  0.23    50   C    5.6   0.5    8   \n",
      "17 -2147483648           SL9  COM  0.51  0.16    32   C    1.8   0.2   10   \n",
      "18           1         Ceres  MBA  2.16  0.00     0   A  939.4   0.2    0   \n",
      "19           2        Pallas  MBA  2.77  0.21     8   A  520.8  12.8    2   \n",
      "20           3          Juno  MBA  3.16  0.44    14   B  251.6   9.0    4   \n",
      "21           4         Vesta  MBA  3.41  0.00     0   A  525.4   0.2    0   \n",
      "22           5       Astraea  MBA  3.62  0.62    17   B  115.6   3.4    3   \n",
      "23           6          Hebe  MBA  3.60  0.85    24   C  189.5   8.3    4   \n",
      "24           7          Iris  MBA  3.18  0.80    25   C  203.8  12.4    6   \n",
      "25           8         Flora  MBA  2.67  0.26    10   B  140.1   2.3    2   \n",
      "26           9         Metis  MBA  3.16  0.69    22   C  169.5   7.2    4   \n",
      "27          10        Hygiea  MBA  2.07  0.26    12   A  427.0  15.7    4   \n",
      "28          11    Parthenope  MBA  2.78  0.25     9   A  153.7   2.6    2   \n",
      "29          12      Victoria  MBA  2.32  0.66    28   C  124.1   8.2    7   \n",
      "30          13        Egeria  MBA  1.73  0.84    49   C  211.2  10.1    5   \n",
      "31          14         Irene  MBA  3.00  0.80    27   C  147.5   5.2    4   \n",
      "32          15       Eunomia  MBA  3.48  0.45    13   B  259.0  10.7    4   \n",
      "33          16        Psyche  MBA  3.90  0.29     7   A  223.7   1.9    1   \n",
      "34          17        Thetis  MBA  2.88  0.77    27   C   88.9   6.7    8   \n",
      "35          18     Melpomene  MBA  2.86  0.53    18   A  141.6   3.7    3   \n",
      "36          19       Fortuna  MBA  1.86  0.29    16   A  208.8   4.1    2   \n",
      "37          20      Massalia  MBA  2.87  0.46    16   B  151.2   5.0    3   \n",
      "38          21       Lutetia  MBA  3.45  0.53    15   A   98.0   5.0    5   \n",
      "39          22      Kalliope  MBA  3.01  0.45    15   A  170.5   8.0    5   \n",
      "40          23        Thalia  MBA  3.32  0.72    22   C  106.4   2.0    2   \n",
      "41          24        Themis  MBA  1.63  0.40    25   C  183.8  11.4    6   \n",
      "42          25       Phocaea  MBA  2.33  0.64    28   C   81.1   4.2    5   \n",
      "43          26    Proserpina  MBA  1.69  0.86    51   D   89.5   3.6    4   \n",
      "44          27       Euterpe  MBA  3.78  1.98    52   D  110.3   2.0    2   \n",
      "45          28       Bellona  MBA  3.27  1.13    35   C  115.0  10.5    9   \n",
      "46          29    Amphitrite  MBA  2.47  0.49    20   A  217.2  11.2    5   \n",
      "47          30        Urania  MBA  3.33  0.54    16   B  100.0   1.7    2   \n",
      "48          31    Euphrosyne  MBA  1.39  0.55    40   C  273.5  13.6    5   \n",
      "49          32        Pomona  MBA  2.50  1.20    48   C   81.6   3.1    4   \n",
      "\n",
      "    ...  T.T  T.B  L.T L.B T.D C_TAX  C_BD C_BD.E C_BD.R C_RNK  \n",
      "0   ...    -    -    -   -   -     -  0.75   0.46     61     D  \n",
      "1   ...    -    -    -   -   -     -  0.33   0.35    106     E  \n",
      "2   ...    -    -    -   -   -     -  0.12   0.09     75     X  \n",
      "3   ...    -    -    -   -   -     -  0.54   0.37     69     D  \n",
      "4   ...    -    -    -   -   -     -  1.75   1.76    101     E  \n",
      "5   ...    -    -    -   -   -     -  1.41   0.96     68     D  \n",
      "6   ...    -    -    -   -   -     -  0.57   0.72    126     E  \n",
      "7   ...    -    -    -   -   -     -  1.01   1.02    101     E  \n",
      "8   ...    -    -    -   -   -     -  6.73   7.22    107     E  \n",
      "9   ...    -    -    -   -   -     -  0.21   0.11     52     D  \n",
      "10  ...    -    -    -   -   -     -  1.67   1.36     81     D  \n",
      "11  ...    -    -    -   -   -     -  1.26   2.59    206     E  \n",
      "12  ...    -    -    -   -   -     -   0.4   0.28     70     D  \n",
      "13  ...    -    -    -   -   -     -  0.43   0.37     86     D  \n",
      "14  ...    -    -    -   -   -     -  1.08   0.49     45     C  \n",
      "15  ...    -    -    -   -   -     -   0.7    0.1     14     B  \n",
      "16  ...    -    -    -   -   -     -  0.48   0.06     12     B  \n",
      "17  ...    -    -    -   -   -     -   0.5   0.05     10     B  \n",
      "18  ...    G    C    C   C   C     C  2.13   0.15      7     A  \n",
      "19  ...    B    B    -   -   B     B  2.86   0.32     11     A  \n",
      "20  ...    S   Sk    S  Sk  Sq    Sq  3.68   0.62     17     A  \n",
      "21  ...    V    V    -   -   V     V  3.58   0.15      4     A  \n",
      "22  ...    S    S    -   -   S     S  3.45   0.66     19     B  \n",
      "23  ...    S    S    -   -   -     S  3.81    0.5     13     A  \n",
      "24  ...    S    S    -   -   S     S  2.14   0.81     38     C  \n",
      "25  ...    S    -    -   -  Sw     S   6.5   1.28     20     X  \n",
      "26  ...    S    -    T   T   -     S   3.6   0.87     24     C  \n",
      "27  ...    C    C    -   -   C     C  2.19   0.42     19     A  \n",
      "28  ...    S   Sk    -   -  Sq    Sq  3.27   0.41     13     A  \n",
      "29  ...    S    L    D   D   -     L  2.45   0.67     27     C  \n",
      "30  ...    G   Ch    -   -  Ch    Ch   1.7   0.86     51     D  \n",
      "31  ...    S    S    -   -   S     S  1.72   1.12     65     D  \n",
      "32  ...    S    S    -   -   K     K  3.54    0.2      6     B  \n",
      "33  ...    M    X    -   -  Xk    Xk  3.38   1.16     34     C  \n",
      "34  ...    S   Sl    -   -   S     S  4.48   1.48     33     C  \n",
      "35  ...    S    S    -   -   S     S  2.15   0.88     41     C  \n",
      "36  ...    G   Ch    -   -  Ch    Ch  1.85   0.35     19     A  \n",
      "37  ...    S    S    -   -   S     S  3.71   1.05     28     C  \n",
      "38  ...    M   Xk    X   X  Xc    Xk  3.44   0.52     15     A  \n",
      "39  ...    M    X    -   -   X     X  3.08   0.58     19     B  \n",
      "40  ...    S    S    S   S   -     S  3.07   0.31     10     B  \n",
      "41  ...    C    B    B   C   C     C  1.81   0.67     37     C  \n",
      "42  ...    S    S    S  Sa   S     S  2.21   0.44     20     C  \n",
      "43  ...    S    S    -   -   S     S  1.98   2.38    120     E  \n",
      "44  ...    S    S    S   L   S     S  2.69   1.71     64     D  \n",
      "45  ...    S    S    -   -   S     S  3.95   1.28     32     C  \n",
      "46  ...    S    S    S   L   S     S  2.38   0.51     21     C  \n",
      "47  ...    S   Sl    -   -   S     S  3.92   1.29     33     C  \n",
      "48  ...    C   Cb    -   -   -     C  1.18   0.61     52     D  \n",
      "49  ...    S    S    -   -  Sw     -     -      -      -     -  \n",
      "\n",
      "[50 rows x 24 columns]\n"
     ]
    }
   ],
   "source": [
    "print(P.query(\"NUM in @codes\").loc[:, [\"NUM\", \"DESIGNATION\", \"MASS\"]])\n",
    "print(P.head(50))"
   ]
  },
  {
   "cell_type": "code",
   "execution_count": null,
   "metadata": {},
   "outputs": [],
   "source": []
  }
 ],
 "metadata": {
  "kernelspec": {
   "display_name": "tudat-bundle",
   "language": "python",
   "name": "python3"
  },
  "language_info": {
   "codemirror_mode": {
    "name": "ipython",
    "version": 3
   },
   "file_extension": ".py",
   "mimetype": "text/x-python",
   "name": "python",
   "nbconvert_exporter": "python",
   "pygments_lexer": "ipython3",
   "version": "3.11.4"
  }
 },
 "nbformat": 4,
 "nbformat_minor": 2
}
