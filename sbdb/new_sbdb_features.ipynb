{
 "cells": [
  {
   "cell_type": "code",
   "execution_count": 8,
   "metadata": {},
   "outputs": [
    {
     "name": "stdout",
     "output_type": "stream",
     "text": [
      "The autoreload extension is already loaded. To reload it, use:\n",
      "  %reload_ext autoreload\n"
     ]
    }
   ],
   "source": [
    "%load_ext autoreload\n",
    "%autoreload 2\n",
    "\n",
    "import sys\n",
    "\n",
    "sys.path.insert(0, r\"/mnt/c/Users/Trez/Desktop/tudat-bundle/tudatpy/\")\n",
    "from tudatpy.data.mpc import BatchMPC\n",
    "from tudatpy.data.horizons import HorizonsQuery\n",
    "from tudatpy.data.sbdb import SBDBquery\n",
    "\n",
    "from tudatpy.numerical_simulation.environment_setup.ephemeris import jpl_horizons\n",
    "from tudatpy.numerical_simulation.environment_setup.gravity_field import central_sbdb\n",
    "\n",
    "from tudatpy.numerical_simulation import environment_setup\n",
    "from tudatpy.interface import spice\n",
    "\n",
    "import numpy as np\n",
    "import pytest\n",
    "import datetime\n",
    "import matplotlib.pyplot as plt\n",
    "\n",
    "spice.load_standard_kernels()"
   ]
  },
  {
   "cell_type": "code",
   "execution_count": 9,
   "metadata": {},
   "outputs": [
    {
     "name": "stdout",
     "output_type": "stream",
     "text": [
      "939400.0\n",
      "OrderedDict([('prefix', None), ('pha', False), ('kind', 'an'), ('orbit_class', OrderedDict([('name', 'Main-belt Asteroid'), ('code', 'MBA')])), ('des', '1'), ('shortname', '1 Ceres'), ('spkid', '20000001'), ('fullname', '1 Ceres (A801 AA)'), ('neo', False), ('orbit_id', '48')])\n",
      "Main-belt Asteroid\n",
      "62628400000.0\n"
     ]
    }
   ],
   "source": [
    "eros = 1\n",
    "\n",
    "sbdb_query = SBDBquery(eros)\n",
    "\n",
    "print(sbdb_query.diameter)\n",
    "print(sbdb_query.object_info)\n",
    "print(sbdb_query.object_classification)\n",
    "print(sbdb_query.gravitational_parameter)"
   ]
  },
  {
   "cell_type": "code",
   "execution_count": 10,
   "metadata": {},
   "outputs": [
    {
     "name": "stdout",
     "output_type": "stream",
     "text": [
      "11/2000 = 0.5%\n",
      "####### Available ########\n",
      "1 Ceres (A801 AA)\n",
      "2 Pallas (A802 FA)\n",
      "4 Vesta (A807 FA)\n",
      "10 Hygiea (A849 GA)\n",
      "16 Psyche (A852 FA)\n",
      "22 Kalliope (A852 WA)\n",
      "107 Camilla (A868 WA)\n",
      "243 Ida (A884 SB)\n",
      "253 Mathilde (A885 VA)\n",
      "433 Eros (A898 PA)\n",
      "704 Interamnia (A910 TC)\n",
      "Ceres, Pallas, Vesta, Hygiea, Psyche, Kalliope, Camilla, Ida, Mathilde, Eros, Interamnia, "
     ]
    }
   ],
   "source": [
    "total = 2000\n",
    "available = []\n",
    "unavailable = []\n",
    "for i in range(1, total):\n",
    "    sbdb_query = SBDBquery(i)\n",
    "    try:\n",
    "        gm = sbdb_query.gravitational_parameter\n",
    "        available.append(sbdb_query.name)\n",
    "    except Exception as _:\n",
    "        unavailable.append(sbdb_query.name)\n",
    "\n",
    "# print(f\"{len(unavailable)}/{total} = {round(len(unavailable)/total*100,1)}%\")\n",
    "# print(\"####### Unavailable ########\")\n",
    "# for i in unavailable:\n",
    "#     print(i)\n",
    "print(f\"{len(available)}/{total} = {round(len(available)/total*100,1)}%\")\n",
    "print(\"####### Available ########\")\n",
    "for i in available:\n",
    "    print(i)\n",
    "\n",
    "for i in available:\n",
    "    print(i.split(\" \")[1], end=\", \")"
   ]
  },
  {
   "cell_type": "code",
   "execution_count": 11,
   "metadata": {},
   "outputs": [
    {
     "name": "stdout",
     "output_type": "stream",
     "text": [
      "<tudatpy.kernel.numerical_simulation.environment_setup.gravity_field.CentralGravityFieldSettings object at 0x7ff03a5b3a30>\n"
     ]
    }
   ],
   "source": [
    "settings = central_sbdb(eros)\n",
    "\n",
    "print(settings)"
   ]
  },
  {
   "cell_type": "code",
   "execution_count": 12,
   "metadata": {},
   "outputs": [
    {
     "name": "stdout",
     "output_type": "stream",
     "text": [
      "36.644%\n"
     ]
    }
   ],
   "source": [
    "ceres = 4\n",
    "\n",
    "ceres_query = SBDBquery(ceres)\n",
    "\n",
    "real = (ceres_query.gravitational_parameter)\n",
    "fake = (ceres_query.estimated_spherical_gravitational_parameter(2161.6))\n",
    "diff = real - fake\n",
    "# print(real)\n",
    "# print(fake)\n",
    "# print(\"{:.4e}\".format(diff))\n",
    "print(f\"{round(diff/real * 100, 4)}%\")"
   ]
  },
  {
   "cell_type": "code",
   "execution_count": 13,
   "metadata": {},
   "outputs": [
    {
     "name": "stdout",
     "output_type": "stream",
     "text": [
      "-1.2946%\n"
     ]
    }
   ],
   "source": [
    "vesta = 4\n",
    "vesta_density = 3456\n",
    "\n",
    "vesta_query = SBDBquery(vesta)\n",
    "\n",
    "real = vesta_query.gravitational_parameter\n",
    "fake = vesta_query.estimated_spherical_gravitational_parameter(vesta_density)\n",
    "diff = real - fake\n",
    "# print(real)\n",
    "# print(fake)\n",
    "# print(\"{:.4e}\".format(diff))\n",
    "print(f\"{round(diff/real * 100, 4)}%\")"
   ]
  },
  {
   "cell_type": "code",
   "execution_count": 16,
   "metadata": {},
   "outputs": [
    {
     "name": "stdout",
     "output_type": "stream",
     "text": [
      "2.768934813136012e+19  kg\n",
      "5000000000.0\n",
      "1847596674.4783223\n",
      "3.1524e+09\n",
      "63.0481%\n"
     ]
    }
   ],
   "source": [
    "Interamnia = 704\n",
    "Interamnia_density = 1840\n",
    "\n",
    "Interamnia_query = SBDBquery(Interamnia)\n",
    "print(Interamnia_query.estimated_spherical_mass(density=Interamnia_density), \" kg\")\n",
    "\n",
    "real = Interamnia_query.gravitational_parameter\n",
    "fake = Interamnia_query.estimated_spherical_gravitational_parameter(Interamnia_density)\n",
    "diff = real - fake\n",
    "print(real)\n",
    "print(fake)\n",
    "print(\"{:.4e}\".format(diff))\n",
    "print(f\"{round(diff/real * 100, 4)}%\")"
   ]
  },
  {
   "cell_type": "code",
   "execution_count": null,
   "metadata": {},
   "outputs": [],
   "source": []
  }
 ],
 "metadata": {
  "kernelspec": {
   "display_name": "tudat-bundle",
   "language": "python",
   "name": "python3"
  },
  "language_info": {
   "codemirror_mode": {
    "name": "ipython",
    "version": 3
   },
   "file_extension": ".py",
   "mimetype": "text/x-python",
   "name": "python",
   "nbconvert_exporter": "python",
   "pygments_lexer": "ipython3",
   "version": "3.11.4"
  }
 },
 "nbformat": 4,
 "nbformat_minor": 2
}
