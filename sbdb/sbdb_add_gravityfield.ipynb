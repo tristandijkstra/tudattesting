{
 "cells": [
  {
   "cell_type": "code",
   "execution_count": 1,
   "metadata": {},
   "outputs": [],
   "source": [
    "import sys\n",
    "\n",
    "sys.path.insert(0, r\"/mnt/c/Users/Trez/Desktop/tudat-bundle/tudatpy/\")\n",
    "from tudatpy.data.mpc import BatchMPC\n",
    "from tudatpy.data.horizons import HorizonsQuery\n",
    "from tudatpy.data.sbdb import SBDBquery\n",
    "\n",
    "from tudatpy.numerical_simulation import environment_setup\n",
    "from tudatpy.numerical_simulation.environment_setup import add_gravity_field_model\n",
    "from tudatpy.interface import spice\n",
    "\n",
    "from tudatpy.numerical_simulation.environment_setup.gravity_field import central_sbdb\n",
    "import numpy as np\n",
    "import pytest\n",
    "import datetime\n",
    "import matplotlib.pyplot as plt\n",
    "\n",
    "spice.load_standard_kernels()"
   ]
  },
  {
   "cell_type": "code",
   "execution_count": 2,
   "metadata": {},
   "outputs": [
    {
     "name": "stdout",
     "output_type": "stream",
     "text": [
      "433 Eros (A898 PA)\n"
     ]
    }
   ],
   "source": [
    "eros = \"433\"\n",
    "ceres = \"1\"\n",
    "\n",
    "sbdb_query = SBDBquery(eros)\n",
    "\n",
    "print(sbdb_query.name)\n",
    "\n",
    "MPCcodes = [eros, ceres]  # Ceres and Vesta\n",
    "batch = BatchMPC()\n",
    "batch.get_observations(MPCcodes)\n",
    "batch.filter(epoch_start=datetime.datetime(2016, 1, 1))\n",
    "\n",
    "\n",
    "global_frame_origin = \"SSB\"\n",
    "global_frame_orientation = \"J2000\"\n",
    "\n",
    "bodies_to_create = [\n",
    "    \"Sun\",\n",
    "    \"Earth\",\n",
    "    # \"eross\"\n",
    "]\n",
    "\n",
    "# Create system of bodies\n",
    "body_settings = environment_setup.get_default_body_settings(\n",
    "    bodies_to_create, global_frame_origin, global_frame_orientation\n",
    ")\n",
    "\n",
    "\n",
    "bodies = environment_setup.create_system_of_bodies(body_settings)\n",
    "observation_collection = batch.to_tudat(bodies=bodies, included_satellites=None, add_sbdb_gravity_model=True)"
   ]
  },
  {
   "cell_type": "code",
   "execution_count": 3,
   "metadata": {},
   "outputs": [
    {
     "name": "stdout",
     "output_type": "stream",
     "text": [
      "446300.0\n",
      "446300.0\n",
      "{'433': 'empty body + sbdb gravity', '1': 'empty body + sbdb gravity'}\n"
     ]
    }
   ],
   "source": [
    "# print(sbdb_query)\n",
    "print(sbdb_query.gravitational_parameter)\n",
    "print(bodies.get(eros).gravitational_parameter)\n",
    "print(batch.bodies_created)"
   ]
  },
  {
   "cell_type": "code",
   "execution_count": 4,
   "metadata": {},
   "outputs": [
    {
     "name": "stdout",
     "output_type": "stream",
     "text": [
      "['1', '433', 'Sun', 'Earth']\n",
      "446300.0\n"
     ]
    },
    {
     "name": "stderr",
     "output_type": "stream",
     "text": [
      "Warning when settings gravity field model for body, mass interface already found: overrriding existing mass interface\n"
     ]
    }
   ],
   "source": [
    "gm = sbdb_query.gravitational_parameter\n",
    "\n",
    "print(bodies.list_of_bodies())\n",
    "\n",
    "add_gravity_field_model(bodies, eros, environment_setup.gravity_field.central(gm))\n",
    "print(bodies.get(eros).gravitational_parameter)"
   ]
  },
  {
   "cell_type": "code",
   "execution_count": 5,
   "metadata": {},
   "outputs": [
    {
     "name": "stdout",
     "output_type": "stream",
     "text": [
      "['1', '433', 'Sun', 'Earth']\n",
      "62628400000.0\n",
      "{'433': 'empty body + sbdb gravity', '1': 'empty body + sbdb gravity'}\n"
     ]
    },
    {
     "name": "stderr",
     "output_type": "stream",
     "text": [
      "Warning when settings gravity field model for body, mass interface already found: overrriding existing mass interface\n"
     ]
    }
   ],
   "source": [
    "gm = sbdb_query.gravitational_parameter\n",
    "\n",
    "print(bodies.list_of_bodies())\n",
    "\n",
    "add_gravity_field_model(bodies, ceres, central_sbdb(ceres))\n",
    "print(bodies.get(ceres).gravitational_parameter)\n",
    "\n",
    "print(batch.bodies_created)"
   ]
  },
  {
   "cell_type": "code",
   "execution_count": null,
   "metadata": {},
   "outputs": [],
   "source": []
  },
  {
   "cell_type": "code",
   "execution_count": null,
   "metadata": {},
   "outputs": [],
   "source": []
  },
  {
   "cell_type": "code",
   "execution_count": 6,
   "metadata": {},
   "outputs": [],
   "source": [
    "# this is what i want, no gravity field defined\n",
    "# bodies.get(\"433\").gravity_field_settings = (\n",
    "#     environment_setup.gravity_field.central(gm)\n",
    "# )\n",
    "# bodies.create_empty_body(\"433\")\n",
    "# body_settings.add_empty_settings(\"433\")\n"
   ]
  }
 ],
 "metadata": {
  "kernelspec": {
   "display_name": "tudat-bundle",
   "language": "python",
   "name": "python3"
  },
  "language_info": {
   "codemirror_mode": {
    "name": "ipython",
    "version": 3
   },
   "file_extension": ".py",
   "mimetype": "text/x-python",
   "name": "python",
   "nbconvert_exporter": "python",
   "pygments_lexer": "ipython3",
   "version": "3.1.0"
  }
 },
 "nbformat": 4,
 "nbformat_minor": 2
}
