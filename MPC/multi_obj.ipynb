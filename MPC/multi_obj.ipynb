{
 "cells": [
  {
   "cell_type": "code",
   "execution_count": 1,
   "metadata": {},
   "outputs": [],
   "source": [
    "# import os\n",
    "import sys\n",
    "\n",
    "sys.path.insert(0, r\"/mnt/c/Users/Trez/Desktop/tudat-bundle/tudatpy/\")\n",
    "import numpy as np\n",
    "import datetime\n",
    "\n",
    "from tudatpy.kernel.interface import spice\n",
    "from tudatpy.kernel import numerical_simulation\n",
    "from tudatpy.kernel.numerical_simulation import environment_setup\n",
    "from tudatpy.kernel.numerical_simulation import propagation_setup\n",
    "from tudatpy.kernel.numerical_simulation import estimation, estimation_setup\n",
    "from tudatpy.kernel.numerical_simulation.estimation_setup import observation\n",
    "\n",
    "# from astropy.time import Time\n",
    "from astropy.coordinates import EarthLocation\n",
    "from astropy import units as u\n",
    "\n",
    "# from pac.data import BatchMPC\n",
    "from tudatpy.data.mpc import BatchMPC\n",
    "# import tudatpy.data as data\n",
    "\n",
    "import matplotlib.pyplot as plt\n",
    "\n"
   ]
  },
  {
   "cell_type": "code",
   "execution_count": 2,
   "metadata": {},
   "outputs": [],
   "source": [
    "# SPICE KERNELS\n",
    "spice.load_standard_kernels()\n",
    "# spice.load_kernel(r\"codes_300ast_20100725.bsp\")\n",
    "# spice.load_kernel(r\"codes_300ast_20100725.tf\")"
   ]
  },
  {
   "cell_type": "code",
   "execution_count": 3,
   "metadata": {},
   "outputs": [
    {
     "name": "stdout",
     "output_type": "stream",
     "text": [
      "\n",
      "   Batch Summary:\n",
      "1. Batch includes 3 minor planets:\n",
      "   ['433', '1', '4']\n",
      "2. Batch includes 1602 observations, including 0 observations from space telescopes\n",
      "3. The observations range from 2018-06-12 10:39:16.416012 to 2023-05-29 11:10:29.827215\n",
      "   In seconds TDB since J2000: 582072025.60063 to 738630699.0121946\n",
      "   In Julian Days: 2458281.94394 to 2460093.965623\n",
      "4. The batch contains observations from 68 observatories, including 0 space telescopes\n",
      "\n",
      "Empty DataFrame\n",
      "Columns: [Code, Name, count]\n",
      "Index: []\n"
     ]
    }
   ],
   "source": [
    "codes = [433, 1, 4]\n",
    "\n",
    "batch = BatchMPC()\n",
    "batch.get_observations(codes)\n",
    "batch.filter(\n",
    "    epoch_start=datetime.datetime(2018, 6, 1),\n",
    "    epoch_end=datetime.datetime(2023, 6, 1),\n",
    "    observatories_exclude=[\"C51\", \"C59\", \"C57\"],\n",
    ")\n",
    "\n",
    "batch.summary()\n",
    "\n",
    "print(batch.observatories_table(only_in_batch=True, only_space_telescopes=True, include_positions=False))"
   ]
  },
  {
   "cell_type": "code",
   "execution_count": 4,
   "metadata": {},
   "outputs": [],
   "source": [
    "bodies_to_propagate = batch.MPC_objects\n",
    "central_bodies = [\"Sun\" for _ in batch.MPC_objects]\n",
    "bodies_to_create = [\n",
    "    \"Sun\",\n",
    "    \"Mercury\",\n",
    "    \"Venus\",\n",
    "    \"Earth\",\n",
    "    \"Moon\",\n",
    "    \"Mars\",\n",
    "    \"Jupiter\",\n",
    "    \"Saturn\",\n",
    "    \"Uranus\",\n",
    "    \"Neptune\",\n",
    "]\n",
    "\n",
    "accelerations = {\n",
    "    \"Sun\": [\n",
    "        propagation_setup.acceleration.point_mass_gravity(),\n",
    "        propagation_setup.acceleration.relativistic_correction(True),\n",
    "    ],\n",
    "    \"Mercury\": [propagation_setup.acceleration.point_mass_gravity()],\n",
    "    \"Venus\": [propagation_setup.acceleration.point_mass_gravity()],\n",
    "    \"Earth\": [propagation_setup.acceleration.point_mass_gravity()],\n",
    "    \"Moon\": [propagation_setup.acceleration.point_mass_gravity()],\n",
    "    \"Mars\": [propagation_setup.acceleration.point_mass_gravity()],\n",
    "    \"Jupiter\": [propagation_setup.acceleration.point_mass_gravity()],\n",
    "    \"Saturn\": [propagation_setup.acceleration.point_mass_gravity()],\n",
    "    \"Uranus\": [propagation_setup.acceleration.point_mass_gravity()],\n",
    "    \"Neptune\": [propagation_setup.acceleration.point_mass_gravity()],\n",
    "}\n",
    "\n"
   ]
  },
  {
   "cell_type": "code",
   "execution_count": 5,
   "metadata": {},
   "outputs": [
    {
     "name": "stdout",
     "output_type": "stream",
     "text": [
      "['Venus', 'Uranus', 'Saturn', 'Sun', 'Mercury', 'Moon', 'Mars', 'Jupiter', 'Neptune', 'Earth']\n"
     ]
    }
   ],
   "source": [
    "global_frame_origin = \"Sun\"\n",
    "global_frame_orientation = \"J2000\"\n",
    "body_settings = environment_setup.get_default_body_settings(\n",
    "    bodies_to_create, global_frame_origin, global_frame_orientation\n",
    ")\n",
    "\n",
    "# Create system of bodies\n",
    "bodies = environment_setup.create_system_of_bodies(body_settings)\n",
    "\n",
    "print(bodies.list_of_bodies())"
   ]
  },
  {
   "cell_type": "code",
   "execution_count": 6,
   "metadata": {},
   "outputs": [],
   "source": [
    "observation_collection, links = batch.to_tudat(bodies=bodies)\n",
    "observation_settings_list = list()\n",
    "for link in list(links.values()):\n",
    "    observation_settings_list.append(observation.angular_position(link))"
   ]
  },
  {
   "cell_type": "code",
   "execution_count": 7,
   "metadata": {},
   "outputs": [],
   "source": [
    "end = batch.epoch_end\n",
    "start = batch.epoch_start - 0*86400"
   ]
  },
  {
   "cell_type": "code",
   "execution_count": 8,
   "metadata": {},
   "outputs": [],
   "source": [
    "acceleration_settings = {}\n",
    "for body in batch.MPC_objects:\n",
    "    acceleration_settings[str(body)] = accelerations\n",
    "\n",
    "# acceleration_settings[\"TESS\"] = allAccels\n",
    "\n",
    "acceleration_models = propagation_setup.create_acceleration_models(\n",
    "    bodies, acceleration_settings, bodies_to_propagate, central_bodies\n",
    ")"
   ]
  },
  {
   "cell_type": "code",
   "execution_count": 9,
   "metadata": {},
   "outputs": [],
   "source": [
    "initial_state_Eros = spice.get_body_cartesian_state_at_epoch(\"Eros\", \"Sun\", \"J2000\", \"NONE\", end)\n",
    "\n",
    "initial_state_Ceres = spice.get_body_cartesian_state_at_epoch(\"Ceres\", \"Sun\", \"J2000\", \"NONE\", end)\n",
    "\n",
    "initial_state_Vesta = spice.get_body_cartesian_state_at_epoch(\"Vesta\", \"Sun\", \"J2000\", \"NONE\", end)\n",
    "initial_states = np.concatenate([initial_state_Eros, initial_state_Ceres, initial_state_Vesta])\n",
    "\n",
    "# Add random initial states\n",
    "initial_states[0:3] += + np.random.rand(3)*1000e3\n",
    "initial_states[6:9] += + np.random.rand(3)*1000e3\n",
    "initial_states[12:15] += + np.random.rand(3)*1000e3\n",
    "\n",
    "initial_states[3:6] += + np.random.rand(3)*10\n",
    "initial_states[9:12] += + np.random.rand(3)*10\n",
    "initial_states[15:18] += + np.random.rand(3)*10\n"
   ]
  },
  {
   "cell_type": "code",
   "execution_count": 10,
   "metadata": {},
   "outputs": [],
   "source": [
    "termination_condition = propagation_setup.propagator.time_termination(start)\n",
    "\n",
    "\n",
    "dt = -60000\n",
    "# Create numerical integrator settings\n",
    "integrator_settings = propagation_setup.integrator.runge_kutta_variable_step_size(\n",
    "    end, dt, propagation_setup.integrator.rkf_78, dt, dt, 1.0, 1.0\n",
    ")\n",
    "\n",
    "# Create propagation settings\n",
    "propagator_settings = propagation_setup.propagator.translational(\n",
    "    central_bodies=central_bodies,\n",
    "    acceleration_models=acceleration_models,\n",
    "    bodies_to_integrate=bodies_to_propagate,\n",
    "    initial_states=initial_states,\n",
    "    initial_time=end,\n",
    "    integrator_settings=integrator_settings,\n",
    "    termination_settings=termination_condition,\n",
    ")"
   ]
  },
  {
   "cell_type": "code",
   "execution_count": 11,
   "metadata": {},
   "outputs": [
    {
     "name": "stdout",
     "output_type": "stream",
     "text": [
      "['Sun', 'Sun', 'Sun']\n",
      "['433', '1', '4']\n"
     ]
    }
   ],
   "source": [
    "# Setup parameters settings to propagate the state transition matrix\n",
    "parameter_settings = estimation_setup.parameter.initial_states(\n",
    "    propagator_settings, bodies\n",
    ")\n",
    "\n",
    "# Create the parameters that will be estimated\n",
    "parameters_to_estimate = estimation_setup.create_parameter_set(\n",
    "    parameter_settings, bodies, propagator_settings\n",
    ")\n",
    "\n",
    "print(central_bodies)\n",
    "print(bodies_to_propagate)"
   ]
  },
  {
   "cell_type": "code",
   "execution_count": 12,
   "metadata": {},
   "outputs": [],
   "source": [
    "\n",
    "estimator = numerical_simulation.Estimator(\n",
    "    bodies=bodies,\n",
    "    estimated_parameters=parameters_to_estimate,\n",
    "    observation_settings=observation_settings_list,\n",
    "    propagator_settings=propagator_settings,\n",
    "    integrate_on_creation=True, \n",
    ")\n",
    "\n",
    "\n",
    "pod_input = estimation.EstimationInput(\n",
    "    observations_and_times=observation_collection,\n",
    "    convergence_checker=estimation.estimation_convergence_checker(\n",
    "        maximum_iterations=4,\n",
    "    )\n",
    ")"
   ]
  },
  {
   "cell_type": "code",
   "execution_count": 13,
   "metadata": {},
   "outputs": [],
   "source": [
    "pod_input.define_estimation_settings(reintegrate_variational_equations=True)\n"
   ]
  },
  {
   "cell_type": "code",
   "execution_count": 14,
   "metadata": {},
   "outputs": [
    {
     "name": "stdout",
     "output_type": "stream",
     "text": [
      "Calculating residuals and partials 3204\n",
      "[ 1.00870570e+11 -2.20771328e+11 -1.07133472e+11  1.84364363e+04\n",
      "  4.31828597e+03  5.78322300e+03 -3.66436947e+11 -1.29950894e+11\n",
      "  1.33023730e+10  4.45852374e+03 -1.63554883e+04 -8.62158920e+03\n",
      "  2.79849301e+11  2.47560320e+11  6.20525651e+10 -1.12318677e+04\n",
      "  1.25412163e+04  6.47083248e+03]\n",
      "Parameter update-7.10902e+07 -1.08414e+08  1.38195e+08     -4.46511    -0.919232     -15.5194      -651340 -1.15076e+06 -1.02997e+06     -1.17533     -3.24246    -0.168321      -909070       192666      -193179     -4.10406     -3.98597     -8.55003\n",
      "Current residual: 0.0390229\n",
      "Calculating residuals and partials 3204\n",
      "Parameter update 7.10428e+07  1.08075e+08 -1.38711e+08   -0.0398548     -7.57895      9.02933       305425     -35250.6     -70356.7    0.0142112  -0.00164471   -0.0140875      -518836       100386     -27905.7   -0.0279727   -0.0136406   0.00484046\n",
      "Current residual: 0.00155778\n",
      "Calculating residuals and partials 3204\n",
      "Parameter update    -44831.3       270492      -314115   0.00715003   -0.0368297    0.0141993   -0.0875319   -0.0222599    0.0524307   1.2414e-09  1.32036e-08 -1.18049e-08    -0.721409      -0.1608     0.967336 -3.46327e-08 -4.48732e-08  2.23807e-08\n",
      "Current residual: 4.50206e-05\n",
      "Calculating residuals and partials 3204\n",
      "Parameter update     103.916      137.963     -200.856  -7.3777e-07 -1.12246e-05  1.01715e-05  -0.00275312   0.00108046   0.00188862 -1.65757e-10  2.91617e-11  1.07619e-10   0.00338545  -0.00257274  -0.00309381  1.85967e-10  4.04788e-11 -3.80727e-11\n",
      "Current residual: 2.29772e-06\n",
      "Maximum number of iterations reached\n",
      "Final residual: 2.29772e-06\n"
     ]
    }
   ],
   "source": [
    "pod_output = estimator.perform_estimation(pod_input)\n",
    "results = parameters_to_estimate.parameter_vector\n",
    "results = pod_output.parameter_history[:, -1]\n",
    "\n",
    "print(results)\n",
    "result_eros = results[0:6]\n",
    "result_ceres = results[6:12]\n",
    "result_vesta = results[12:18]\n",
    "\n"
   ]
  },
  {
   "cell_type": "code",
   "execution_count": 15,
   "metadata": {},
   "outputs": [
    {
     "name": "stdout",
     "output_type": "stream",
     "text": [
      "Eros radial error: 97.3328428577204 km\n",
      "Ceres radial error: 693.0867707860078 km\n",
      "Vesta radial error: 1070.7573300325018 km\n"
     ]
    }
   ],
   "source": [
    "print(f\"Eros radial error: {np.sqrt(np.square((np.array(result_eros) - initial_state_Eros)[0:3]).sum())/1000} km\")\n",
    "print(f\"Ceres radial error: {np.sqrt(np.square((np.array(result_ceres) - initial_state_Ceres)[0:3]).sum())/1000} km\")\n",
    "print(f\"Vesta radial error: {np.sqrt(np.square((np.array(result_vesta) - initial_state_Vesta)[0:3]).sum())/1000} km\")\n"
   ]
  }
 ],
 "metadata": {
  "kernelspec": {
   "display_name": "tudat-bundle",
   "language": "python",
   "name": "python3"
  },
  "language_info": {
   "codemirror_mode": {
    "name": "ipython",
    "version": 3
   },
   "file_extension": ".py",
   "mimetype": "text/x-python",
   "name": "python",
   "nbconvert_exporter": "python",
   "pygments_lexer": "ipython3",
   "version": "3.11.4"
  },
  "orig_nbformat": 4
 },
 "nbformat": 4,
 "nbformat_minor": 2
}
