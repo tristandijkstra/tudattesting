{
 "cells": [
  {
   "cell_type": "markdown",
   "metadata": {},
   "source": [
    "The spice kernels for TESS can be retrieved from [MAST](https://archive.stsci.edu/missions-and-data/tess/data-products)."
   ]
  },
  {
   "cell_type": "code",
   "execution_count": 60,
   "metadata": {},
   "outputs": [],
   "source": [
    "# import os\n",
    "import sys\n",
    "\n",
    "sys.path.insert(0, r\"/mnt/c/Users/Trez/Desktop/tudat-bundle/tudatpy/\")\n",
    "import pandas as pd\n",
    "import numpy as np\n",
    "\n",
    "# import astroquery.mpc.MPC as astroqueryMPC\n",
    "from astroquery.mpc import MPC\n",
    "import datetime\n",
    "from typing import Union\n",
    "import time\n",
    "\n",
    "from tudatpy.kernel import constants\n",
    "from tudatpy.kernel.interface import spice\n",
    "from tudatpy.kernel import numerical_simulation\n",
    "from tudatpy.kernel.numerical_simulation import environment_setup\n",
    "from tudatpy.kernel.numerical_simulation import propagation_setup\n",
    "from tudatpy.kernel.numerical_simulation import estimation, estimation_setup\n",
    "from tudatpy.kernel.numerical_simulation.estimation_setup import observation\n",
    "from tudatpy.kernel.astro import element_conversion\n",
    "\n",
    "# from astropy.time import Time\n",
    "from astropy.coordinates import EarthLocation\n",
    "from astropy import units as u\n",
    "\n",
    "# from pac.data import BatchMPC\n",
    "from tudatpy.data.mpc import BatchMPC\n",
    "from tudatpy.data.horizons import HorizonsQuery\n",
    "# import tudatpy.data as data\n",
    "\n",
    "import matplotlib.pyplot as plt\n",
    "\n",
    "from acc import bods, allAccels\n",
    "\n"
   ]
  },
  {
   "cell_type": "code",
   "execution_count": 61,
   "metadata": {},
   "outputs": [],
   "source": [
    "# SPICE KERNELS\n",
    "spice.load_standard_kernels()\n",
    "# spice.load_kernel(r\"codes_300ast_20100725.bsp\")\n",
    "# spice.load_kernel(r\"codes_300ast_20100725.tf\")\n",
    "\n",
    "# TESS - https://archive.stsci.edu/missions/tess/models/\n",
    "# https://archive.stsci.edu/tess/bulk_downloads.html\n",
    "# https://archive.stsci.edu/missions-and-data/tess/data-products.html#mod_eng\n",
    "\n",
    "# 229 = Aug 17\n",
    "# spice.load_kernel(r\"TESS_EPH_DEF_2023229_21.bsp\")\n",
    "# spice.load_kernel(r\"TESS_EPH_PRE_LONG_2023229_21.bsp\")\n",
    "# spice.load_kernel(r\"tess_20_year_long_predictive.bsp\")\n",
    "# spice.load_kernel(r\"TESS_EPH_PRE_LONG_2018319_01.bsp\")\n",
    "# spice.load_kernel(r\"TESS_EPH_PRE_2021151_21.bsp\")\n",
    "\n",
    "# dont ask me how i know this\n",
    "# TESS_naif = \"-95\""
   ]
  },
  {
   "cell_type": "code",
   "execution_count": 62,
   "metadata": {},
   "outputs": [
    {
     "name": "stdout",
     "output_type": "stream",
     "text": [
      "\n",
      "   Batch Summary:\n",
      "1. Batch includes 3 minor planets:\n",
      "   ['433', '1', '4']\n",
      "2. Batch includes 1746 observations, including 275 observations from space telescopes\n",
      "3. The observations range from 2018-11-05 18:03:13.535985 to 2023-05-29 11:10:29.827215\n",
      "   In seconds TDB since J2000: 594713062.7185509 to 738630699.0121946\n",
      "   In Julian Days: 2458428.25224 to 2460093.965623\n",
      "4. The batch contains observations from 65 observatories, including 2 space telescopes\n",
      "\n",
      "     Code        Name  count\n",
      "1225  C51        WISE  273.0\n",
      "1232  C59  Yangwang-1    2.0\n"
     ]
    }
   ],
   "source": [
    "codes = [433, 1]\n",
    "codes = [433]\n",
    "codes = [433, 1, 4]\n",
    "\n",
    "\n",
    "start_dt = datetime.datetime(2018, 11, 1)\n",
    "end_dt = datetime.datetime(2023, 6, 1)\n",
    "\n",
    "start_dt_buff = datetime.datetime(2018, 6, 1)\n",
    "end_dt_buff = datetime.datetime(2023, 8, 1)\n",
    "\n",
    "\n",
    "batch = BatchMPC()\n",
    "batch.get_observations(codes)\n",
    "batch.filter(\n",
    "    epoch_start=start_dt,\n",
    "    epoch_end=end_dt,\n",
    "    # observatories_exclude=[\"C51\", \"C59\"],\n",
    "    observatories_exclude=[\"C57\"],\n",
    ")\n",
    "\n",
    "batch.summary()\n",
    "# print(batch.table)\n",
    "print(batch.observatories_table(only_in_batch=True, only_space_telescopes=True, include_positions=False))"
   ]
  },
  {
   "cell_type": "code",
   "execution_count": 63,
   "metadata": {},
   "outputs": [],
   "source": [
    "bodies_to_create = bods # + [\"-95\"]\n",
    "central_bodies = [\"Sun\" for _ in batch.MPC_objects] #+ [\"Earth\"]\n",
    "bodies_to_propagate = batch.MPC_objects# + [\"TESS\"]"
   ]
  },
  {
   "cell_type": "code",
   "execution_count": 64,
   "metadata": {},
   "outputs": [],
   "source": [
    "wise_query = HorizonsQuery(\n",
    "    query_id=\"WISE\",\n",
    "    location=\"@Sun\",\n",
    "    epoch_start=start_dt_buff,\n",
    "    epoch_end=end_dt_buff,\n",
    "    epoch_step=\"1h\",\n",
    "    extended_query=True\n",
    ")\n",
    "tess_query = HorizonsQuery(\n",
    "    query_id=\"TESS\",\n",
    "    location=\"@Sun\",\n",
    "    epoch_start=start_dt_buff,\n",
    "    epoch_end=end_dt_buff,\n",
    "    epoch_step=\"1h\",\n",
    "    extended_query=True\n",
    ")"
   ]
  },
  {
   "cell_type": "code",
   "execution_count": 65,
   "metadata": {},
   "outputs": [],
   "source": [
    "global_frame_origin = \"Sun\"\n",
    "global_frame_orientation = \"J2000\"\n",
    "body_settings = environment_setup.get_default_body_settings(\n",
    "    bodies_to_create, global_frame_origin, global_frame_orientation\n",
    ")\n",
    "# NOTE this way produces settings, the ephemeris itself is made by tudat\n",
    "body_settings.add_empty_settings(\"TESS\")\n",
    "body_settings.get(\"TESS\").ephemeris_settings = tess_query.create_ephemeris_tabulated(\n",
    "    frame_origin=global_frame_origin,\n",
    "    frame_orientation=global_frame_orientation,\n",
    "    refplane=\"earth\",\n",
    ")\n",
    "body_settings.add_empty_settings(\"WISE\")\n",
    "body_settings.get(\"WISE\").ephemeris_settings = wise_query.create_ephemeris_tabulated(\n",
    "    frame_origin=global_frame_origin,\n",
    "    frame_orientation=global_frame_orientation,\n",
    "    refplane=\"earth\",\n",
    ")\n",
    "\n",
    "# Create system of bodies\n",
    "bodies = environment_setup.create_system_of_bodies(body_settings)\n",
    "\n",
    "# NOTE here you're trying set the ephemeris, which is not something made by the user and in this case is not made yet.\n",
    "# NOTE tudat needs to make it itself so its consistent with the rest of the environment\n",
    "# Add TESS\n",
    "# bodies.create_empty_body(\"TESS\")\n",
    "# bodies.get(\"TESS\").mass = 0\n",
    "# bodies.get(\"TESS\").ephemeris = environment_setup.ephemeris.direct_spice(\n",
    "#      global_frame_origin, global_frame_orientation, TESS_naif)\n",
    "\n",
    "satellites_to_include = {\"C57\": \"TESS\", \"C51\": \"WISE\"}\n",
    "# satellites_to_include = {\"C51\": \"WISE\"}"
   ]
  },
  {
   "cell_type": "code",
   "execution_count": 66,
   "metadata": {},
   "outputs": [],
   "source": [
    "observation_collection, links = batch.to_tudat(bodies=bodies,\n",
    "                                               included_satellites=satellites_to_include\n",
    "                                            )\n",
    "observation_settings_list = list()\n",
    "for link in list(links.values()):\n",
    "    observation_settings_list.append(observation.angular_position(link))"
   ]
  },
  {
   "cell_type": "code",
   "execution_count": 67,
   "metadata": {},
   "outputs": [],
   "source": [
    "end = batch.epoch_end\n",
    "start = batch.epoch_start"
   ]
  },
  {
   "cell_type": "code",
   "execution_count": 68,
   "metadata": {},
   "outputs": [],
   "source": [
    "acceleration_settings = {}\n",
    "for body in batch.MPC_objects:\n",
    "    acceleration_settings[str(body)] = allAccels\n",
    "\n",
    "acceleration_settings_2 = acceleration_settings.copy()\n",
    "# acceleration_settings[\"TESS\"] = allAccels\n",
    "\n",
    "acceleration_models = propagation_setup.create_acceleration_models(\n",
    "    bodies, acceleration_settings, bodies_to_propagate, central_bodies\n",
    ")\n",
    "acceleration_models_2 = propagation_setup.create_acceleration_models(\n",
    "    bodies, acceleration_settings_2, bodies_to_propagate, central_bodies\n",
    ")"
   ]
  },
  {
   "cell_type": "code",
   "execution_count": 69,
   "metadata": {},
   "outputs": [],
   "source": [
    "initial_state_Eros = spice.get_body_cartesian_state_at_epoch(\"Eros\", \"Sun\", \"J2000\", \"NONE\", end)\n",
    "\n",
    "initial_state_Ceres = spice.get_body_cartesian_state_at_epoch(\"Ceres\", \"Sun\", \"J2000\", \"NONE\", end)\n",
    "\n",
    "initial_state_Vesta = spice.get_body_cartesian_state_at_epoch(\"Vesta\", \"Sun\", \"J2000\", \"NONE\", end)\n",
    "initial_states = np.concatenate([initial_state_Eros, initial_state_Ceres, initial_state_Vesta])\n",
    "\n",
    "# Add random initial states\n",
    "initial_states[0:3] += + np.random.rand(3)*1000e3\n",
    "initial_states[6:9] += + np.random.rand(3)*1000e3\n",
    "initial_states[12:15] += + np.random.rand(3)*1000e3\n",
    "\n",
    "initial_states[3:6] += + np.random.rand(3)*10\n",
    "initial_states[9:12] += + np.random.rand(3)*10\n",
    "initial_states[15:18] += + np.random.rand(3)*10\n"
   ]
  },
  {
   "cell_type": "code",
   "execution_count": 70,
   "metadata": {},
   "outputs": [],
   "source": [
    "termination_condition = propagation_setup.propagator.time_termination(start)\n",
    "\n",
    "\n",
    "dt = -60000\n",
    "# Create numerical integrator settings\n",
    "integrator_settings = propagation_setup.integrator.runge_kutta_variable_step_size(\n",
    "    end, dt, propagation_setup.integrator.rkf_78, dt, dt, 1.0, 1.0\n",
    ")\n",
    "\n",
    "# Create propagation settings\n",
    "propagator_settings = propagation_setup.propagator.translational(\n",
    "    central_bodies=central_bodies,\n",
    "    acceleration_models=acceleration_models,\n",
    "    bodies_to_integrate=bodies_to_propagate,\n",
    "    initial_states=initial_states,\n",
    "    initial_time=end,\n",
    "    integrator_settings=integrator_settings,\n",
    "    termination_settings=termination_condition,\n",
    ")\n",
    "propagator_settings_2 = propagation_setup.propagator.translational(\n",
    "    central_bodies=central_bodies[0:1],\n",
    "    acceleration_models=acceleration_models_2,\n",
    "    bodies_to_integrate=bodies_to_propagate[0:1],\n",
    "    initial_states=initial_states[0:6],\n",
    "    initial_time=end,\n",
    "    integrator_settings=integrator_settings,\n",
    "    termination_settings=termination_condition,\n",
    ")"
   ]
  },
  {
   "cell_type": "code",
   "execution_count": 71,
   "metadata": {},
   "outputs": [
    {
     "name": "stdout",
     "output_type": "stream",
     "text": [
      "['Sun', 'Sun', 'Sun']\n",
      "['433', '1', '4']\n"
     ]
    }
   ],
   "source": [
    "# Setup parameters settings to propagate the state transition matrix\n",
    "parameter_settings = estimation_setup.parameter.initial_states(\n",
    "    propagator_settings_2, bodies\n",
    ")\n",
    "\n",
    "# Create the parameters that will be estimated\n",
    "parameters_to_estimate = estimation_setup.create_parameter_set(\n",
    "    parameter_settings, bodies, propagator_settings\n",
    ")\n",
    "\n",
    "print(central_bodies)\n",
    "print(bodies_to_propagate)"
   ]
  },
  {
   "cell_type": "code",
   "execution_count": 72,
   "metadata": {},
   "outputs": [
    {
     "ename": "RuntimeError",
     "evalue": "Error, provided acceleration models for body 1, but this body is not included in list of bodies for which translational dynamics is to be propagated.",
     "output_type": "error",
     "traceback": [
      "\u001b[0;31m---------------------------------------------------------------------------\u001b[0m",
      "\u001b[0;31mRuntimeError\u001b[0m                              Traceback (most recent call last)",
      "\u001b[1;32m/mnt/c/Users/Trez/Desktop/astroquerytest/MPC/multi_obj_plusTESS.ipynb Cell 14\u001b[0m line \u001b[0;36m1\n\u001b[0;32m----> <a href='vscode-notebook-cell://wsl%2Bubuntu/mnt/c/Users/Trez/Desktop/astroquerytest/MPC/multi_obj_plusTESS.ipynb#X16sdnNjb2RlLXJlbW90ZQ%3D%3D?line=0'>1</a>\u001b[0m estimator \u001b[39m=\u001b[39m numerical_simulation\u001b[39m.\u001b[39;49mEstimator(\n\u001b[1;32m      <a href='vscode-notebook-cell://wsl%2Bubuntu/mnt/c/Users/Trez/Desktop/astroquerytest/MPC/multi_obj_plusTESS.ipynb#X16sdnNjb2RlLXJlbW90ZQ%3D%3D?line=1'>2</a>\u001b[0m     bodies\u001b[39m=\u001b[39;49mbodies,\n\u001b[1;32m      <a href='vscode-notebook-cell://wsl%2Bubuntu/mnt/c/Users/Trez/Desktop/astroquerytest/MPC/multi_obj_plusTESS.ipynb#X16sdnNjb2RlLXJlbW90ZQ%3D%3D?line=2'>3</a>\u001b[0m     estimated_parameters\u001b[39m=\u001b[39;49mparameters_to_estimate,\n\u001b[1;32m      <a href='vscode-notebook-cell://wsl%2Bubuntu/mnt/c/Users/Trez/Desktop/astroquerytest/MPC/multi_obj_plusTESS.ipynb#X16sdnNjb2RlLXJlbW90ZQ%3D%3D?line=3'>4</a>\u001b[0m     observation_settings\u001b[39m=\u001b[39;49mobservation_settings_list,\n\u001b[1;32m      <a href='vscode-notebook-cell://wsl%2Bubuntu/mnt/c/Users/Trez/Desktop/astroquerytest/MPC/multi_obj_plusTESS.ipynb#X16sdnNjb2RlLXJlbW90ZQ%3D%3D?line=4'>5</a>\u001b[0m     propagator_settings\u001b[39m=\u001b[39;49mpropagator_settings_2,\n\u001b[1;32m      <a href='vscode-notebook-cell://wsl%2Bubuntu/mnt/c/Users/Trez/Desktop/astroquerytest/MPC/multi_obj_plusTESS.ipynb#X16sdnNjb2RlLXJlbW90ZQ%3D%3D?line=5'>6</a>\u001b[0m     integrate_on_creation\u001b[39m=\u001b[39;49m\u001b[39mTrue\u001b[39;49;00m, \n\u001b[1;32m      <a href='vscode-notebook-cell://wsl%2Bubuntu/mnt/c/Users/Trez/Desktop/astroquerytest/MPC/multi_obj_plusTESS.ipynb#X16sdnNjb2RlLXJlbW90ZQ%3D%3D?line=6'>7</a>\u001b[0m )\n\u001b[1;32m     <a href='vscode-notebook-cell://wsl%2Bubuntu/mnt/c/Users/Trez/Desktop/astroquerytest/MPC/multi_obj_plusTESS.ipynb#X16sdnNjb2RlLXJlbW90ZQ%3D%3D?line=9'>10</a>\u001b[0m pod_input \u001b[39m=\u001b[39m estimation\u001b[39m.\u001b[39mEstimationInput(\n\u001b[1;32m     <a href='vscode-notebook-cell://wsl%2Bubuntu/mnt/c/Users/Trez/Desktop/astroquerytest/MPC/multi_obj_plusTESS.ipynb#X16sdnNjb2RlLXJlbW90ZQ%3D%3D?line=10'>11</a>\u001b[0m     observations_and_times\u001b[39m=\u001b[39mobservation_collection,\n\u001b[1;32m     <a href='vscode-notebook-cell://wsl%2Bubuntu/mnt/c/Users/Trez/Desktop/astroquerytest/MPC/multi_obj_plusTESS.ipynb#X16sdnNjb2RlLXJlbW90ZQ%3D%3D?line=11'>12</a>\u001b[0m     convergence_checker\u001b[39m=\u001b[39mestimation\u001b[39m.\u001b[39mestimation_convergence_checker(\n\u001b[1;32m     <a href='vscode-notebook-cell://wsl%2Bubuntu/mnt/c/Users/Trez/Desktop/astroquerytest/MPC/multi_obj_plusTESS.ipynb#X16sdnNjb2RlLXJlbW90ZQ%3D%3D?line=12'>13</a>\u001b[0m         maximum_iterations\u001b[39m=\u001b[39m\u001b[39m3\u001b[39m,\n\u001b[1;32m     <a href='vscode-notebook-cell://wsl%2Bubuntu/mnt/c/Users/Trez/Desktop/astroquerytest/MPC/multi_obj_plusTESS.ipynb#X16sdnNjb2RlLXJlbW90ZQ%3D%3D?line=13'>14</a>\u001b[0m     )\n\u001b[1;32m     <a href='vscode-notebook-cell://wsl%2Bubuntu/mnt/c/Users/Trez/Desktop/astroquerytest/MPC/multi_obj_plusTESS.ipynb#X16sdnNjb2RlLXJlbW90ZQ%3D%3D?line=14'>15</a>\u001b[0m )\n",
      "\u001b[0;31mRuntimeError\u001b[0m: Error, provided acceleration models for body 1, but this body is not included in list of bodies for which translational dynamics is to be propagated."
     ]
    }
   ],
   "source": [
    "\n",
    "estimator = numerical_simulation.Estimator(\n",
    "    bodies=bodies,\n",
    "    estimated_parameters=parameters_to_estimate,\n",
    "    observation_settings=observation_settings_list,\n",
    "    propagator_settings=propagator_settings_2,\n",
    "    integrate_on_creation=True, \n",
    ")\n",
    "\n",
    "\n",
    "pod_input = estimation.EstimationInput(\n",
    "    observations_and_times=observation_collection,\n",
    "    convergence_checker=estimation.estimation_convergence_checker(\n",
    "        maximum_iterations=3,\n",
    "    )\n",
    ")"
   ]
  },
  {
   "cell_type": "code",
   "execution_count": null,
   "metadata": {},
   "outputs": [],
   "source": [
    "pod_input.define_estimation_settings(reintegrate_variational_equations=True)\n"
   ]
  },
  {
   "cell_type": "code",
   "execution_count": null,
   "metadata": {},
   "outputs": [
    {
     "name": "stdout",
     "output_type": "stream",
     "text": [
      "Calculating residuals and partials 2568\n",
      "Parameter update   -78853.8     25952.7    -21192.2  0.00250479 -0.00110328  0.00588809\n",
      "Current residual: 9.34856e-06\n",
      "Calculating residuals and partials 2568\n",
      "Parameter update  -0.0503696   -0.0643886    -0.339971 -1.14611e-08 -1.28092e-08 -1.36402e-08\n",
      "Current residual: 9.24994e-06\n",
      "Calculating residuals and partials 2568\n",
      "Parameter update  0.00162546   0.00124746 -0.000229854 -1.81431e-10 -4.13195e-11  1.97589e-10\n",
      "Current residual: 9.24994e-06\n",
      "Maximum number of iterations reached\n",
      "Final residual: 9.24994e-06\n"
     ]
    }
   ],
   "source": [
    "pod_output = estimator.perform_estimation(pod_input)\n",
    "results = parameters_to_estimate.parameter_vector\n",
    "results = pod_output.parameter_history[:, -1]"
   ]
  },
  {
   "cell_type": "code",
   "execution_count": null,
   "metadata": {},
   "outputs": [],
   "source": [
    "result_eros = results[0:6]\n",
    "result_ceres = results[6:12]\n",
    "result_vesta = results[12:18]\n",
    "\n"
   ]
  },
  {
   "cell_type": "code",
   "execution_count": null,
   "metadata": {},
   "outputs": [
    {
     "name": "stdout",
     "output_type": "stream",
     "text": [
      "Eros radial error: 85.67729476507829 km\n"
     ]
    },
    {
     "ename": "NameError",
     "evalue": "name 'initial_state_Ceres' is not defined",
     "output_type": "error",
     "traceback": [
      "\u001b[0;31m---------------------------------------------------------------------------\u001b[0m",
      "\u001b[0;31mNameError\u001b[0m                                 Traceback (most recent call last)",
      "\u001b[1;32m/mnt/c/Users/Trez/Desktop/astroquerytest/MPC/multi_obj_plusTESS.ipynb Cell 18\u001b[0m line \u001b[0;36m2\n\u001b[1;32m      <a href='vscode-notebook-cell://wsl%2Bubuntu/mnt/c/Users/Trez/Desktop/astroquerytest/MPC/multi_obj_plusTESS.ipynb#X23sdnNjb2RlLXJlbW90ZQ%3D%3D?line=0'>1</a>\u001b[0m \u001b[39mprint\u001b[39m(\u001b[39mf\u001b[39m\u001b[39m\"\u001b[39m\u001b[39mEros radial error: \u001b[39m\u001b[39m{\u001b[39;00mnp\u001b[39m.\u001b[39msqrt(np\u001b[39m.\u001b[39msquare((np\u001b[39m.\u001b[39marray(result_eros)\u001b[39m \u001b[39m\u001b[39m-\u001b[39m\u001b[39m \u001b[39minitial_state_Eros)[\u001b[39m0\u001b[39m:\u001b[39m3\u001b[39m])\u001b[39m.\u001b[39msum())\u001b[39m/\u001b[39m\u001b[39m1000\u001b[39m\u001b[39m}\u001b[39;00m\u001b[39m km\u001b[39m\u001b[39m\"\u001b[39m)\n\u001b[0;32m----> <a href='vscode-notebook-cell://wsl%2Bubuntu/mnt/c/Users/Trez/Desktop/astroquerytest/MPC/multi_obj_plusTESS.ipynb#X23sdnNjb2RlLXJlbW90ZQ%3D%3D?line=1'>2</a>\u001b[0m \u001b[39mprint\u001b[39m(\u001b[39mf\u001b[39m\u001b[39m\"\u001b[39m\u001b[39mCeres radial error: \u001b[39m\u001b[39m{\u001b[39;00mnp\u001b[39m.\u001b[39msqrt(np\u001b[39m.\u001b[39msquare((np\u001b[39m.\u001b[39marray(result_ceres)\u001b[39m \u001b[39m\u001b[39m-\u001b[39m\u001b[39m \u001b[39minitial_state_Ceres)[\u001b[39m0\u001b[39m:\u001b[39m3\u001b[39m])\u001b[39m.\u001b[39msum())\u001b[39m/\u001b[39m\u001b[39m1000\u001b[39m\u001b[39m}\u001b[39;00m\u001b[39m km\u001b[39m\u001b[39m\"\u001b[39m)\n\u001b[1;32m      <a href='vscode-notebook-cell://wsl%2Bubuntu/mnt/c/Users/Trez/Desktop/astroquerytest/MPC/multi_obj_plusTESS.ipynb#X23sdnNjb2RlLXJlbW90ZQ%3D%3D?line=2'>3</a>\u001b[0m \u001b[39mprint\u001b[39m(\u001b[39mf\u001b[39m\u001b[39m\"\u001b[39m\u001b[39mVesta radial error: \u001b[39m\u001b[39m{\u001b[39;00mnp\u001b[39m.\u001b[39msqrt(np\u001b[39m.\u001b[39msquare((np\u001b[39m.\u001b[39marray(result_vesta)\u001b[39m \u001b[39m\u001b[39m-\u001b[39m\u001b[39m \u001b[39minitial_state_Vesta)[\u001b[39m0\u001b[39m:\u001b[39m3\u001b[39m])\u001b[39m.\u001b[39msum())\u001b[39m/\u001b[39m\u001b[39m1000\u001b[39m\u001b[39m}\u001b[39;00m\u001b[39m km\u001b[39m\u001b[39m\"\u001b[39m)\n",
      "\u001b[0;31mNameError\u001b[0m: name 'initial_state_Ceres' is not defined"
     ]
    }
   ],
   "source": [
    "print(f\"Eros radial error: {np.sqrt(np.square((np.array(result_eros) - initial_state_Eros)[0:3]).sum())/1000} km\")\n",
    "print(f\"Ceres radial error: {np.sqrt(np.square((np.array(result_ceres) - initial_state_Ceres)[0:3]).sum())/1000} km\")\n",
    "print(f\"Vesta radial error: {np.sqrt(np.square((np.array(result_vesta) - initial_state_Vesta)[0:3]).sum())/1000} km\")\n"
   ]
  }
 ],
 "metadata": {
  "kernelspec": {
   "display_name": "tudat-bundle",
   "language": "python",
   "name": "python3"
  },
  "language_info": {
   "codemirror_mode": {
    "name": "ipython",
    "version": 3
   },
   "file_extension": ".py",
   "mimetype": "text/x-python",
   "name": "python",
   "nbconvert_exporter": "python",
   "pygments_lexer": "ipython3",
   "version": "3.11.4"
  },
  "orig_nbformat": 4
 },
 "nbformat": 4,
 "nbformat_minor": 2
}
