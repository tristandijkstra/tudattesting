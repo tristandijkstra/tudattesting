{
 "cells": [
  {
   "cell_type": "code",
   "execution_count": 1,
   "metadata": {},
   "outputs": [],
   "source": [
    "# import os\n",
    "import sys\n",
    "\n",
    "sys.path.insert(0, r\"/mnt/c/Users/Trez/Desktop/tudat-bundle/tudatpy/\")\n",
    "import numpy as np\n",
    "import datetime\n",
    "\n",
    "from tudatpy.kernel.interface import spice\n",
    "from tudatpy.kernel import numerical_simulation\n",
    "from tudatpy.kernel.numerical_simulation import environment_setup\n",
    "from tudatpy.kernel.numerical_simulation import propagation_setup\n",
    "from tudatpy.kernel.numerical_simulation import estimation, estimation_setup\n",
    "from tudatpy.kernel.numerical_simulation.estimation_setup import observation\n",
    "\n",
    "# from astropy.time import Time\n",
    "from astropy.coordinates import EarthLocation\n",
    "from astropy import units as u\n",
    "\n",
    "# from pac.data import BatchMPC\n",
    "from tudatpy.data.mpc import BatchMPC\n",
    "# import tudatpy.data as data\n",
    "\n",
    "import matplotlib.pyplot as plt\n",
    "\n"
   ]
  },
  {
   "cell_type": "code",
   "execution_count": 2,
   "metadata": {},
   "outputs": [],
   "source": [
    "# SPICE KERNELS\n",
    "spice.load_standard_kernels()\n",
    "spice.load_kernel(r\"codes_300ast_20100725.bsp\")\n",
    "spice.load_kernel(r\"codes_300ast_20100725.tf\")"
   ]
  },
  {
   "cell_type": "code",
   "execution_count": 3,
   "metadata": {},
   "outputs": [
    {
     "name": "stdout",
     "output_type": "stream",
     "text": [
      "\n",
      "   Batch Summary:\n",
      "1. Batch includes 1 minor planets:\n",
      "   ['1']\n",
      "2. Batch includes 206 observations, including 0 observations from space telescopes\n",
      "3. The observations range from 2016-05-15 03:56:28.608013 to 2023-06-14 13:23:15.993581\n",
      "   In seconds TDB since J2000: 516556656.7932397 to 740021065.178199\n",
      "   In Julian Days: 2457523.66422 to 2460110.057824\n",
      "4. The batch contains observations from 30 observatories, including 0 space telescopes\n",
      "\n",
      "Empty DataFrame\n",
      "Columns: [Code, Name, count]\n",
      "Index: []\n"
     ]
    }
   ],
   "source": [
    "codes = [1]\n",
    "\n",
    "batch = BatchMPC()\n",
    "batch.get_observations(codes)\n",
    "batch.filter(\n",
    "    epoch_start=datetime.datetime(2016, 1, 1),\n",
    "    # epoch_start=708405948+10000,\n",
    "    epoch_end=datetime.datetime(2023, 7, 1),\n",
    "    observatories_exclude=[\"C51\", \"C59\", \"C57\"],\n",
    ")\n",
    "\n",
    "batch.summary()\n",
    "\n",
    "print(batch.observatories_table(only_in_batch=True, only_space_telescopes=True, include_positions=False))"
   ]
  },
  {
   "cell_type": "code",
   "execution_count": 4,
   "metadata": {},
   "outputs": [],
   "source": [
    "bodies_to_propagate = batch.MPC_objects\n",
    "central_bodies = [\"SSB\" for _ in batch.MPC_objects]\n",
    "bodies_to_create = [\n",
    "    \"Sun\",\n",
    "    \"Mercury\",\n",
    "    \"Venus\",\n",
    "    \"Earth\",\n",
    "    \"Moon\",\n",
    "    \"Mars\",\n",
    "    \"Jupiter\",\n",
    "    \"Saturn\",\n",
    "    \"Uranus\",\n",
    "    \"Neptune\",\n",
    "]\n",
    "\n",
    "accelerations = {\n",
    "    \"Sun\": [\n",
    "        propagation_setup.acceleration.point_mass_gravity(),\n",
    "        propagation_setup.acceleration.relativistic_correction(True),\n",
    "    ],\n",
    "    \"Mercury\": [propagation_setup.acceleration.point_mass_gravity()],\n",
    "    \"Venus\": [propagation_setup.acceleration.point_mass_gravity()],\n",
    "    \"Earth\": [propagation_setup.acceleration.point_mass_gravity()],\n",
    "    \"Moon\": [propagation_setup.acceleration.point_mass_gravity()],\n",
    "    \"Mars\": [propagation_setup.acceleration.point_mass_gravity()],\n",
    "    \"Jupiter\": [propagation_setup.acceleration.point_mass_gravity()],\n",
    "    \"Saturn\": [propagation_setup.acceleration.point_mass_gravity()],\n",
    "    \"Uranus\": [propagation_setup.acceleration.point_mass_gravity()],\n",
    "    \"Neptune\": [propagation_setup.acceleration.point_mass_gravity()],\n",
    "}\n",
    "\n"
   ]
  },
  {
   "cell_type": "code",
   "execution_count": 5,
   "metadata": {},
   "outputs": [],
   "source": [
    "global_frame_origin = \"SSB\"\n",
    "global_frame_orientation = \"J2000\"\n",
    "body_settings = environment_setup.get_default_body_settings(\n",
    "    bodies_to_create, global_frame_origin, global_frame_orientation\n",
    ")\n",
    "\n",
    "# Create system of bodies\n",
    "bodies = environment_setup.create_system_of_bodies(body_settings)"
   ]
  },
  {
   "cell_type": "code",
   "execution_count": 6,
   "metadata": {},
   "outputs": [],
   "source": [
    "observation_collection, links = batch.to_tudat(bodies=bodies)\n",
    "observation_settings_list = list()\n",
    "for link in list(links.values()):\n",
    "    observation_settings_list.append(observation.angular_position(link))"
   ]
  },
  {
   "cell_type": "code",
   "execution_count": 7,
   "metadata": {},
   "outputs": [],
   "source": [
    "end = batch.epoch_end\n",
    "start = batch.epoch_start"
   ]
  },
  {
   "cell_type": "code",
   "execution_count": 8,
   "metadata": {},
   "outputs": [],
   "source": [
    "acceleration_settings = {}\n",
    "for body in batch.MPC_objects:\n",
    "    acceleration_settings[str(body)] = accelerations\n",
    "\n",
    "acceleration_models = propagation_setup.create_acceleration_models(\n",
    "    bodies, acceleration_settings, bodies_to_propagate, central_bodies\n",
    ")"
   ]
  },
  {
   "cell_type": "code",
   "execution_count": 9,
   "metadata": {},
   "outputs": [],
   "source": [
    "initial_states = spice.get_body_cartesian_state_at_epoch(\"Ceres\", \"SSB\", \"J2000\", \"NONE\", end)\n",
    "\n",
    "# # Add random initial states\n",
    "# initial_states[0:3] += + np.random.rand(3)*1000e3\n",
    "# initial_states[3:] += + np.random.rand(3)*10"
   ]
  },
  {
   "cell_type": "code",
   "execution_count": 10,
   "metadata": {},
   "outputs": [],
   "source": [
    "termination_condition = propagation_setup.propagator.time_termination(start)\n",
    "\n",
    "\n",
    "dt = -60000\n",
    "# Create numerical integrator settings\n",
    "integrator_settings = propagation_setup.integrator.runge_kutta_variable_step_size(\n",
    "    end, dt, propagation_setup.integrator.rkf_78, dt, dt, 1.0, 1.0\n",
    ")\n",
    "\n",
    "# Create propagation settings\n",
    "propagator_settings = propagation_setup.propagator.translational(\n",
    "    central_bodies=central_bodies,\n",
    "    acceleration_models=acceleration_models,\n",
    "    bodies_to_integrate=bodies_to_propagate,\n",
    "    initial_states=initial_states,\n",
    "    initial_time=end,\n",
    "    integrator_settings=integrator_settings,\n",
    "    termination_settings=termination_condition,\n",
    ")"
   ]
  },
  {
   "cell_type": "code",
   "execution_count": 11,
   "metadata": {},
   "outputs": [
    {
     "name": "stdout",
     "output_type": "stream",
     "text": [
      "['SSB']\n",
      "['1']\n"
     ]
    }
   ],
   "source": [
    "# Setup parameters settings to propagate the state transition matrix\n",
    "parameter_settings = estimation_setup.parameter.initial_states(\n",
    "    propagator_settings, bodies\n",
    ")\n",
    "\n",
    "# Create the parameters that will be estimated\n",
    "parameters_to_estimate = estimation_setup.create_parameter_set(\n",
    "    parameter_settings, bodies, propagator_settings\n",
    ")\n",
    "\n",
    "print(central_bodies)\n",
    "print(bodies_to_propagate)"
   ]
  },
  {
   "cell_type": "code",
   "execution_count": 12,
   "metadata": {},
   "outputs": [],
   "source": [
    "\n",
    "estimator = numerical_simulation.Estimator(\n",
    "    bodies=bodies,\n",
    "    estimated_parameters=parameters_to_estimate,\n",
    "    observation_settings=observation_settings_list,\n",
    "    propagator_settings=propagator_settings,\n",
    "    integrate_on_creation=True, \n",
    ")\n",
    "\n",
    "\n",
    "pod_input = estimation.EstimationInput(\n",
    "    observations_and_times=observation_collection,\n",
    "    convergence_checker=estimation.estimation_convergence_checker(\n",
    "        maximum_iterations=20,\n",
    "    )\n",
    ")"
   ]
  },
  {
   "cell_type": "code",
   "execution_count": 13,
   "metadata": {},
   "outputs": [],
   "source": [
    "pod_input.define_estimation_settings(reintegrate_variational_equations=True)\n"
   ]
  },
  {
   "cell_type": "code",
   "execution_count": 14,
   "metadata": {},
   "outputs": [
    {
     "name": "stdout",
     "output_type": "stream",
     "text": [
      "Calculating residuals and partials 412\n",
      "Parameter update   -230572    -228903    37632.6 -0.0035282 0.00509285  0.0100076\n",
      "Current residual: 4.87632e-06\n",
      "Calculating residuals and partials 412\n",
      "Parameter update    0.250093     -1.01803     0.166031   1.9354e-09   3.3845e-08 -5.99652e-08\n",
      "Current residual: 3.7795e-06\n",
      "Calculating residuals and partials 412\n",
      "Parameter update  -0.0101704   0.00364215   0.00358241 -5.28576e-10  8.61629e-11  1.69324e-10\n",
      "Current residual: 3.7795e-06\n",
      "Calculating residuals and partials 412\n",
      "Parameter update 0.000608549  -0.00190114  -0.00100505  9.50127e-11  1.80298e-11 -2.77337e-11\n",
      "Current residual: 3.7795e-06\n",
      "Calculating residuals and partials 412\n",
      "Parameter update  0.00147489   -0.0038384  -0.00162737  8.92955e-11   1.7105e-11 -1.27761e-11\n",
      "Current residual: 3.7795e-06\n",
      "Calculating residuals and partials 412\n",
      "Parameter update -0.00282866    0.0023803   0.00160794 -1.83668e-10  8.74678e-12  5.55285e-11\n",
      "Current residual: 3.7795e-06\n",
      "Calculating residuals and partials 412\n",
      "Parameter update 0.000958633  0.000603976  4.52854e-05  6.02359e-11 -2.35885e-11 -3.26605e-11\n",
      "Current residual: 3.7795e-06\n",
      "Calculating residuals and partials 412\n",
      "Parameter update-0.000505796  0.000121547  0.000320053 -2.86175e-11  1.31549e-11  8.43073e-12\n",
      "Current residual: 3.7795e-06\n",
      "Calculating residuals and partials 412\n",
      "Parameter update  0.00112562  -0.00241316  -0.00136584  9.09318e-11  2.31219e-11 -1.47178e-11\n",
      "Current residual: 3.7795e-06\n",
      "Calculating residuals and partials 412\n",
      "Parameter update -0.00149074   0.00395742   0.00220525 -1.55365e-10 -6.81059e-11  6.97479e-12\n",
      "Current residual: 3.7795e-06\n",
      "Calculating residuals and partials 412\n",
      "Parameter update  0.00133256  -0.00380276  -0.00233418  1.63318e-10   6.7045e-11 -2.96111e-12\n",
      "Current residual: 3.7795e-06\n",
      "Calculating residuals and partials 412\n",
      "Parameter update -0.00310158   0.00297467   0.00223203 -2.31639e-10 -2.05258e-11  5.24885e-11\n",
      "Current residual: 3.7795e-06\n",
      "Calculating residuals and partials 412\n",
      "Parameter update-0.000592502   0.00189546  0.000600627 -4.10689e-11 -4.21777e-11 -3.35648e-11\n",
      "Current residual: 3.7795e-06\n",
      "Calculating residuals and partials 412\n",
      "Parameter update-4.67227e-05  -0.00132515 -0.000457329  7.42226e-12  3.16814e-12  1.81616e-11\n",
      "Current residual: 3.7795e-06\n",
      "Calculating residuals and partials 412\n",
      "Parameter update-3.99319e-05  0.000869407  0.000402544 -7.43953e-12 -3.13189e-11  5.22353e-12\n",
      "Current residual: 3.7795e-06\n",
      "Calculating residuals and partials 412\n",
      "Parameter update -0.00109736   0.00059688  0.000444207 -7.11306e-11  5.66823e-12  1.70233e-11\n",
      "Current residual: 3.7795e-06\n",
      "Calculating residuals and partials 412\n",
      "Parameter update -0.00207125 -0.000304126  0.000446571 -1.21114e-10  4.32147e-11  4.01105e-11\n",
      "Current residual: 3.7795e-06\n",
      "Calculating residuals and partials 412\n",
      "Parameter update  0.00190906   0.00107693  3.63761e-05   9.1853e-11 -2.28788e-11 -2.86626e-11\n",
      "Current residual: 3.7795e-06\n",
      "Calculating residuals and partials 412\n",
      "Parameter update  0.00301875  -0.00267852  -0.00183892  1.95082e-10  1.79003e-11 -2.94814e-11\n",
      "Current residual: 3.7795e-06\n",
      "Calculating residuals and partials 412\n",
      "Parameter update  0.00269322  -0.00244371  -0.00129862  1.85408e-10  1.47923e-11 -5.16947e-11\n",
      "Current residual: 3.7795e-06\n",
      "Maximum number of iterations reached\n",
      "Final residual: 3.7795e-06\n"
     ]
    }
   ],
   "source": [
    "pod_output = estimator.perform_estimation(pod_input)\n",
    "results = parameters_to_estimate.parameter_vector\n",
    "results = pod_output.parameter_history[:, -1]\n",
    "\n",
    "result_ceres = results[0:6]\n",
    "\n"
   ]
  },
  {
   "cell_type": "code",
   "execution_count": 18,
   "metadata": {},
   "outputs": [
    {
     "name": "stdout",
     "output_type": "stream",
     "text": [
      "Ceres radial error: 327.0726319863498 km\n",
      "412\n",
      "412\n",
      "412\n"
     ]
    }
   ],
   "source": [
    "print(f\"Ceres radial error: {np.sqrt(np.square((np.array(result_ceres) - initial_states)[0:3]).sum())/1000} km\")\n",
    "\n",
    "print(observation_collection.observation_vector_size)\n",
    "print(len(observation_collection.concatenated_observations))\n",
    "print(len(observation_collection.concatenated_times))"
   ]
  },
  {
   "cell_type": "code",
   "execution_count": null,
   "metadata": {},
   "outputs": [],
   "source": []
  }
 ],
 "metadata": {
  "kernelspec": {
   "display_name": "tudat-bundle",
   "language": "python",
   "name": "python3"
  },
  "language_info": {
   "codemirror_mode": {
    "name": "ipython",
    "version": 3
   },
   "file_extension": ".py",
   "mimetype": "text/x-python",
   "name": "python",
   "nbconvert_exporter": "python",
   "pygments_lexer": "ipython3",
   "version": "3.11.4"
  },
  "orig_nbformat": 4
 },
 "nbformat": 4,
 "nbformat_minor": 2
}
